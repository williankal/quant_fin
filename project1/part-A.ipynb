{
 "cells": [
  {
   "cell_type": "markdown",
   "metadata": {},
   "source": [
    "# Project 1 - part A"
   ]
  },
  {
   "cell_type": "markdown",
   "metadata": {},
   "source": [
    "Dataset with the 30 Stocks from S&P500 Index from 2014 to 2024"
   ]
  },
  {
   "cell_type": "code",
   "execution_count": 28,
   "metadata": {},
   "outputs": [
    {
     "name": "stdout",
     "output_type": "stream",
     "text": [
      "<class 'pandas.core.frame.DataFrame'>\n",
      "Index: 75479 entries, 0 to 75479\n",
      "Data columns (total 6 columns):\n",
      " #   Column        Non-Null Count  Dtype  \n",
      "---  ------        --------------  -----  \n",
      " 0   Date          75479 non-null  object \n",
      " 1   PX_LAST       75479 non-null  float64\n",
      " 2   CUR_MKT_CAP   75479 non-null  float64\n",
      " 3   PX_VOLUME     75479 non-null  float64\n",
      " 4   Ticker        75479 non-null  object \n",
      " 5   Market_Value  75479 non-null  float64\n",
      "dtypes: float64(4), object(2)\n",
      "memory usage: 4.0+ MB\n"
     ]
    }
   ],
   "source": [
    "import pandas as pd\n",
    "import matplotlib.pyplot as plt\n",
    "import numpy as np\n",
    "\n",
    "df = pd.read_csv(\"../project1-partA/project1_data.csv\")\n",
    "df_SP500 = pd.read_csv(\"../project1-partA/sp500_px_open_last.csv\")\n",
    "df = df.dropna() # VRTX has null PX_LAST in 2015-05-12\t\n",
    "df.info()"
   ]
  },
  {
   "cell_type": "markdown",
   "metadata": {},
   "source": [
    "## Daily Return"
   ]
  },
  {
   "cell_type": "code",
   "execution_count": 29,
   "metadata": {},
   "outputs": [],
   "source": [
    "tickers = df[\"Ticker\"].unique()\n",
    "all_tickers_df = []\n",
    "\n",
    "for tik in tickers:\n",
    "    mask = df[\"Ticker\"]==tik\n",
    "    last_day_value = df.loc[mask,'PX_LAST'].shift(1)\n",
    "    today_value = df.loc[mask,'PX_LAST']\n",
    "    df.loc[mask, 'Daily_Return'] = (today_value - last_day_value) / last_day_value\n",
    "\n",
    "df.loc[df['Daily_Return'].isna(),\"Daily_Return\"] = 0\n",
    "\n",
    "\n",
    "last_day_value = df_SP500.loc[:,'PX Last'].shift(1)\n",
    "today_value = df_SP500.loc[:,'PX Last']\n",
    "df_SP500.loc[:,\"Daily_Return\"] = (today_value - last_day_value) / last_day_value\n",
    "df_SP500.loc[df_SP500['Daily_Return'].isna(),\"Daily_Return\"] = 0\n",
    "df_SP500 = df_SP500[df_SP500[\"Date\"]<=\"2023-31-31\"]"
   ]
  },
  {
   "cell_type": "markdown",
   "metadata": {},
   "source": [
    "## Value-Weighted and Equally-Weighted Portfolio"
   ]
  },
  {
   "cell_type": "code",
   "execution_count": 30,
   "metadata": {},
   "outputs": [],
   "source": [
    "n_tickers = len(df[\"Ticker\"].unique())\n",
    "\n",
    "df['Date'] = pd.to_datetime(df['Date'])\n",
    "\n",
    "# Group by year and month\n",
    "grouped = df.groupby([df['Date'].dt.year, df['Date'].dt.month])\n",
    "\n",
    "# This is a list of dataframes grouped by the month and year of the Date\n",
    "dfs_by_month_year = [group.reset_index(drop=True) for _, group in grouped]\n",
    "\n",
    "# Setting the first portfolio weight\n",
    "equal_weight = 1 / n_tickers \n",
    "dfs_by_month_year[0][\"Equal_Weight\"] = equal_weight"
   ]
  },
  {
   "cell_type": "code",
   "execution_count": 31,
   "metadata": {},
   "outputs": [],
   "source": [
    "# This is the value that we start with (100%)\n",
    "cumulative_value_EWP = 1\n",
    "\n",
    "for i in range(len(dfs_by_month_year)-1):\n",
    "    # For the value weight calculate all value_Weight, without rebalancing\n",
    "    df_specific_month_year = dfs_by_month_year[i]\n",
    "    \n",
    "    # Calculate the portfolio daily return\n",
    "    df_specific_month_year[\"Equal_weight*Daily_Return\"] = df_specific_month_year[\"Equal_Weight\"]*df_specific_month_year[\"Daily_Return\"]\n",
    "    EWP_daily_returns = df_specific_month_year.groupby(\"Date\")[\"Equal_weight*Daily_Return\"].sum().rename(\"EWP_daily_return\")\n",
    "    df_specific_month_year = df_specific_month_year.drop(columns=[\"Equal_weight*Daily_Return\"])\n",
    "    \n",
    "    # Update the cumulative return after this month\n",
    "    for EWP_daily_return in EWP_daily_returns:\n",
    "        cumulative_value_EWP*=(1+EWP_daily_return)\n",
    "        \n",
    "    # Use the cumulative value at the end of the month and divide it by the number of tickers\n",
    "    next_month_Equal_weight = cumulative_value_EWP / n_tickers\n",
    "\n",
    "    df_next_month_year = dfs_by_month_year[i+1]\n",
    "    df_next_month_year[\"Equal_Weight\"] = next_month_Equal_weight"
   ]
  },
  {
   "cell_type": "code",
   "execution_count": 32,
   "metadata": {},
   "outputs": [
    {
     "data": {
      "text/html": [
       "<div>\n",
       "<style scoped>\n",
       "    .dataframe tbody tr th:only-of-type {\n",
       "        vertical-align: middle;\n",
       "    }\n",
       "\n",
       "    .dataframe tbody tr th {\n",
       "        vertical-align: top;\n",
       "    }\n",
       "\n",
       "    .dataframe thead th {\n",
       "        text-align: right;\n",
       "    }\n",
       "</style>\n",
       "<table border=\"1\" class=\"dataframe\">\n",
       "  <thead>\n",
       "    <tr style=\"text-align: right;\">\n",
       "      <th></th>\n",
       "      <th>Date</th>\n",
       "      <th>Daily_Return_with_Equal_Weighted_Portfolio</th>\n",
       "    </tr>\n",
       "  </thead>\n",
       "  <tbody>\n",
       "    <tr>\n",
       "      <th>0</th>\n",
       "      <td>2014-01-02</td>\n",
       "      <td>0.000000</td>\n",
       "    </tr>\n",
       "    <tr>\n",
       "      <th>1</th>\n",
       "      <td>2014-01-03</td>\n",
       "      <td>0.004006</td>\n",
       "    </tr>\n",
       "    <tr>\n",
       "      <th>2</th>\n",
       "      <td>2014-01-06</td>\n",
       "      <td>0.000032</td>\n",
       "    </tr>\n",
       "    <tr>\n",
       "      <th>3</th>\n",
       "      <td>2014-01-07</td>\n",
       "      <td>0.007440</td>\n",
       "    </tr>\n",
       "    <tr>\n",
       "      <th>4</th>\n",
       "      <td>2014-01-08</td>\n",
       "      <td>0.003497</td>\n",
       "    </tr>\n",
       "    <tr>\n",
       "      <th>...</th>\n",
       "      <td>...</td>\n",
       "      <td>...</td>\n",
       "    </tr>\n",
       "    <tr>\n",
       "      <th>2511</th>\n",
       "      <td>2023-12-22</td>\n",
       "      <td>0.005197</td>\n",
       "    </tr>\n",
       "    <tr>\n",
       "      <th>2512</th>\n",
       "      <td>2023-12-26</td>\n",
       "      <td>0.022738</td>\n",
       "    </tr>\n",
       "    <tr>\n",
       "      <th>2513</th>\n",
       "      <td>2023-12-27</td>\n",
       "      <td>-0.003188</td>\n",
       "    </tr>\n",
       "    <tr>\n",
       "      <th>2514</th>\n",
       "      <td>2023-12-28</td>\n",
       "      <td>0.001596</td>\n",
       "    </tr>\n",
       "    <tr>\n",
       "      <th>2515</th>\n",
       "      <td>2023-12-29</td>\n",
       "      <td>-0.011806</td>\n",
       "    </tr>\n",
       "  </tbody>\n",
       "</table>\n",
       "<p>2516 rows × 2 columns</p>\n",
       "</div>"
      ],
      "text/plain": [
       "           Date  Daily_Return_with_Equal_Weighted_Portfolio\n",
       "0    2014-01-02                                    0.000000\n",
       "1    2014-01-03                                    0.004006\n",
       "2    2014-01-06                                    0.000032\n",
       "3    2014-01-07                                    0.007440\n",
       "4    2014-01-08                                    0.003497\n",
       "...         ...                                         ...\n",
       "2511 2023-12-22                                    0.005197\n",
       "2512 2023-12-26                                    0.022738\n",
       "2513 2023-12-27                                   -0.003188\n",
       "2514 2023-12-28                                    0.001596\n",
       "2515 2023-12-29                                   -0.011806\n",
       "\n",
       "[2516 rows x 2 columns]"
      ]
     },
     "execution_count": 32,
     "metadata": {},
     "output_type": "execute_result"
    }
   ],
   "source": [
    "# Connecting all the dataframes\n",
    "new_df = pd.concat(dfs_by_month_year)\n",
    "new_df[\"Equal_Weight*Daily_Return\"] = new_df[\"Equal_Weight\"]*new_df[\"Daily_Return\"]\n",
    "\n",
    "equal_weighted_return = new_df.groupby(\"Date\")[\"Equal_Weight*Daily_Return\"].sum()\n",
    "\n",
    "portfolios = pd.DataFrame({\n",
    "    \"Daily_Return_with_Equal_Weighted_Portfolio\": equal_weighted_return\n",
    "})\n",
    "\n",
    "portfolios.reset_index(inplace=True)\n",
    "portfolios"
   ]
  },
  {
   "cell_type": "markdown",
   "metadata": {},
   "source": [
    "## Annualized Average Return"
   ]
  },
  {
   "cell_type": "code",
   "execution_count": 33,
   "metadata": {},
   "outputs": [],
   "source": [
    "# Compute annualized average return\n",
    "annualized_df =portfolios.groupby(portfolios['Date'].dt.strftime('%Y'))[[\"Daily_Return_with_Equal_Weighted_Portfolio\"]].mean()*252\n",
    "annualized_df.reset_index(inplace=True)\n",
    "annualized_df.rename(columns={\"Daily_Return_with_Equal_Weighted_Portfolio\":\"Average_Annual_Return_with_Equal_Weighted_Portfolio\"},inplace=True)\n",
    "\n",
    "# Compute annualized average return S&P500\n",
    "annualized_dfSP500 = df_SP500.groupby(portfolios['Date'].dt.strftime('%Y'))[\"Daily_Return\"].mean().rename(\"Average_Annual_Return\")*252"
   ]
  },
  {
   "cell_type": "code",
   "execution_count": 34,
   "metadata": {},
   "outputs": [
    {
     "data": {
      "text/html": [
       "<div>\n",
       "<style scoped>\n",
       "    .dataframe tbody tr th:only-of-type {\n",
       "        vertical-align: middle;\n",
       "    }\n",
       "\n",
       "    .dataframe tbody tr th {\n",
       "        vertical-align: top;\n",
       "    }\n",
       "\n",
       "    .dataframe thead th {\n",
       "        text-align: right;\n",
       "    }\n",
       "</style>\n",
       "<table border=\"1\" class=\"dataframe\">\n",
       "  <thead>\n",
       "    <tr style=\"text-align: right;\">\n",
       "      <th></th>\n",
       "      <th>Date</th>\n",
       "      <th>Average_Annual_Return_with_Equal_Weighted_Portfolio</th>\n",
       "    </tr>\n",
       "  </thead>\n",
       "  <tbody>\n",
       "    <tr>\n",
       "      <th>0</th>\n",
       "      <td>2014</td>\n",
       "      <td>0.239542</td>\n",
       "    </tr>\n",
       "    <tr>\n",
       "      <th>1</th>\n",
       "      <td>2015</td>\n",
       "      <td>0.014034</td>\n",
       "    </tr>\n",
       "    <tr>\n",
       "      <th>2</th>\n",
       "      <td>2016</td>\n",
       "      <td>0.249644</td>\n",
       "    </tr>\n",
       "    <tr>\n",
       "      <th>3</th>\n",
       "      <td>2017</td>\n",
       "      <td>0.334828</td>\n",
       "    </tr>\n",
       "    <tr>\n",
       "      <th>4</th>\n",
       "      <td>2018</td>\n",
       "      <td>-0.124841</td>\n",
       "    </tr>\n",
       "    <tr>\n",
       "      <th>5</th>\n",
       "      <td>2019</td>\n",
       "      <td>0.552997</td>\n",
       "    </tr>\n",
       "    <tr>\n",
       "      <th>6</th>\n",
       "      <td>2020</td>\n",
       "      <td>-0.034457</td>\n",
       "    </tr>\n",
       "    <tr>\n",
       "      <th>7</th>\n",
       "      <td>2021</td>\n",
       "      <td>0.955253</td>\n",
       "    </tr>\n",
       "    <tr>\n",
       "      <th>8</th>\n",
       "      <td>2022</td>\n",
       "      <td>-0.279740</td>\n",
       "    </tr>\n",
       "    <tr>\n",
       "      <th>9</th>\n",
       "      <td>2023</td>\n",
       "      <td>0.573372</td>\n",
       "    </tr>\n",
       "  </tbody>\n",
       "</table>\n",
       "</div>"
      ],
      "text/plain": [
       "   Date  Average_Annual_Return_with_Equal_Weighted_Portfolio\n",
       "0  2014                                           0.239542  \n",
       "1  2015                                           0.014034  \n",
       "2  2016                                           0.249644  \n",
       "3  2017                                           0.334828  \n",
       "4  2018                                          -0.124841  \n",
       "5  2019                                           0.552997  \n",
       "6  2020                                          -0.034457  \n",
       "7  2021                                           0.955253  \n",
       "8  2022                                          -0.279740  \n",
       "9  2023                                           0.573372  "
      ]
     },
     "execution_count": 34,
     "metadata": {},
     "output_type": "execute_result"
    }
   ],
   "source": [
    "annualized_df"
   ]
  },
  {
   "cell_type": "markdown",
   "metadata": {},
   "source": [
    "## Annualized Standard Deviation"
   ]
  },
  {
   "cell_type": "code",
   "execution_count": 35,
   "metadata": {},
   "outputs": [
    {
     "data": {
      "text/html": [
       "<div>\n",
       "<style scoped>\n",
       "    .dataframe tbody tr th:only-of-type {\n",
       "        vertical-align: middle;\n",
       "    }\n",
       "\n",
       "    .dataframe tbody tr th {\n",
       "        vertical-align: top;\n",
       "    }\n",
       "\n",
       "    .dataframe thead th {\n",
       "        text-align: right;\n",
       "    }\n",
       "</style>\n",
       "<table border=\"1\" class=\"dataframe\">\n",
       "  <thead>\n",
       "    <tr style=\"text-align: right;\">\n",
       "      <th></th>\n",
       "      <th>Standard_Deviation_with_Equal_Weighted_Portfolio</th>\n",
       "    </tr>\n",
       "    <tr>\n",
       "      <th>Date</th>\n",
       "      <th></th>\n",
       "    </tr>\n",
       "  </thead>\n",
       "  <tbody>\n",
       "    <tr>\n",
       "      <th>2014</th>\n",
       "      <td>0.151781</td>\n",
       "    </tr>\n",
       "    <tr>\n",
       "      <th>2015</th>\n",
       "      <td>0.215832</td>\n",
       "    </tr>\n",
       "    <tr>\n",
       "      <th>2016</th>\n",
       "      <td>0.221749</td>\n",
       "    </tr>\n",
       "    <tr>\n",
       "      <th>2017</th>\n",
       "      <td>0.149834</td>\n",
       "    </tr>\n",
       "    <tr>\n",
       "      <th>2018</th>\n",
       "      <td>0.407061</td>\n",
       "    </tr>\n",
       "    <tr>\n",
       "      <th>2019</th>\n",
       "      <td>0.321539</td>\n",
       "    </tr>\n",
       "    <tr>\n",
       "      <th>2020</th>\n",
       "      <td>0.789416</td>\n",
       "    </tr>\n",
       "    <tr>\n",
       "      <th>2021</th>\n",
       "      <td>0.496037</td>\n",
       "    </tr>\n",
       "    <tr>\n",
       "      <th>2022</th>\n",
       "      <td>0.846607</td>\n",
       "    </tr>\n",
       "    <tr>\n",
       "      <th>2023</th>\n",
       "      <td>0.421825</td>\n",
       "    </tr>\n",
       "  </tbody>\n",
       "</table>\n",
       "</div>"
      ],
      "text/plain": [
       "      Standard_Deviation_with_Equal_Weighted_Portfolio\n",
       "Date                                                  \n",
       "2014                                          0.151781\n",
       "2015                                          0.215832\n",
       "2016                                          0.221749\n",
       "2017                                          0.149834\n",
       "2018                                          0.407061\n",
       "2019                                          0.321539\n",
       "2020                                          0.789416\n",
       "2021                                          0.496037\n",
       "2022                                          0.846607\n",
       "2023                                          0.421825"
      ]
     },
     "execution_count": 35,
     "metadata": {},
     "output_type": "execute_result"
    }
   ],
   "source": [
    "# compute annualized standard deviation return\n",
    "standard_deviation_return = portfolios.groupby(portfolios['Date'].dt.strftime('%Y'))[[\"Daily_Return_with_Equal_Weighted_Portfolio\"]].std(ddof=0) * np.sqrt(252)\n",
    "standard_deviation_return = standard_deviation_return.rename(columns={\"Daily_Return_with_Equal_Weighted_Portfolio\":\"Standard_Deviation_with_Equal_Weighted_Portfolio\"})\n",
    "standard_deviation_return"
   ]
  },
  {
   "cell_type": "code",
   "execution_count": 36,
   "metadata": {},
   "outputs": [],
   "source": [
    "# CHANGE THIS VALUE FOR A REAL VALUE\n",
    "risk_free_annual_rate = 0.0559"
   ]
  },
  {
   "cell_type": "markdown",
   "metadata": {},
   "source": [
    "## Sharpe Ratio and Information Ratio with annualized Average Return"
   ]
  },
  {
   "cell_type": "code",
   "execution_count": 37,
   "metadata": {},
   "outputs": [
    {
     "name": "stdout",
     "output_type": "stream",
     "text": [
      "0.5416268840455257\n"
     ]
    }
   ],
   "source": [
    "annualized_df[\"Excess_Return_EWP\"] = annualized_df[\"Average_Annual_Return_with_Equal_Weighted_Portfolio\"] - risk_free_annual_rate\n",
    "risk_premium_EWP = annualized_df[\"Excess_Return_EWP\"].mean()\n",
    "SD_Excess_Return_EWP = annualized_df[\"Excess_Return_EWP\"].std(ddof=0)\n",
    "sharpe_ratio_EWP = risk_premium_EWP / SD_Excess_Return_EWP\n",
    "print(sharpe_ratio_EWP)"
   ]
  },
  {
   "cell_type": "markdown",
   "metadata": {},
   "source": [
    "## Plot cumulative returns for both porfolios, S&P 500 and risk-free using annualized returns"
   ]
  },
  {
   "cell_type": "code",
   "execution_count": 38,
   "metadata": {},
   "outputs": [],
   "source": [
    "returns_per_year = pd.DataFrame()\n",
    "returns_per_year[\"Date\"] = annualized_df[\"Date\"]\n",
    "returns_per_year[\"Annually_Return_EWP\"] = annualized_df[\"Average_Annual_Return_with_Equal_Weighted_Portfolio\"]\n",
    "returns_per_year[\"Annually_Return_with_Risk_Free_Asset\"] = risk_free_annual_rate\n",
    "returns_per_year[\"Annually_Return_with_SP500\"] = annualized_dfSP500.to_list()"
   ]
  },
  {
   "cell_type": "code",
   "execution_count": 39,
   "metadata": {},
   "outputs": [
    {
     "data": {
      "text/plain": [
       "<matplotlib.legend.Legend at 0x7feb027bcc40>"
      ]
     },
     "execution_count": 39,
     "metadata": {},
     "output_type": "execute_result"
    },
    {
     "data": {
      "image/png": "[encoded data removed]",
      "text/plain": [
       "<Figure size 1200x600 with 1 Axes>"
      ]
     },
     "metadata": {},
     "output_type": "display_data"
    }
   ],
   "source": [
    "cumulative_returns_EWP = (returns_per_year[\"Annually_Return_EWP\"]+1).cumprod() - 1\n",
    "cumulative_returns_RiskFree = (returns_per_year[\"Annually_Return_with_Risk_Free_Asset\"]+1).cumprod() - 1\n",
    "cumulative_returns_SP500 = (returns_per_year[\"Annually_Return_with_SP500\"]+1).cumprod() - 1\n",
    "\n",
    "plt.figure(figsize=(12, 6))\n",
    "plt.plot(returns_per_year[\"Date\"], cumulative_returns_EWP, label=\"Cumulative return EWP\")\n",
    "plt.plot(returns_per_year[\"Date\"], cumulative_returns_SP500, label=\"Cumulative return SP500\")\n",
    "plt.plot(returns_per_year[\"Date\"], cumulative_returns_RiskFree, label=\"Cumulative return Risk-Free\")\n",
    "\n",
    "plt.title(f\"Value Weighted vs Equal Weighted Returns\")\n",
    "plt.xlabel(\"Date\")\n",
    "plt.ylabel(\"Return\")\n",
    "plt.legend()"
   ]
  }
 ],
 "metadata": {
  "kernelspec": {
   "display_name": "env",
   "language": "python",
   "name": "python3"
  },
  "language_info": {
   "codemirror_mode": {
    "name": "ipython",
    "version": 3
   },
   "file_extension": ".py",
   "mimetype": "text/x-python",
   "name": "python",
   "nbconvert_exporter": "python",
   "pygments_lexer": "ipython3",
   "version": "3.8.10"
  }
 },
 "nbformat": 4,
 "nbformat_minor": 2
}

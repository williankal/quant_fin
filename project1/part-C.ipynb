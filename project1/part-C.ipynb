{
 "cells": [
  {
   "cell_type": "code",
   "execution_count": 1,
   "metadata": {},
   "outputs": [],
   "source": [
    "import pandas as pd\n",
    "import numpy as np\n",
    "import matplotlib.pyplot as plt"
   ]
  },
  {
   "cell_type": "code",
   "execution_count": 2,
   "metadata": {},
   "outputs": [],
   "source": [
    "risk_free_rate = 3.8 / 100  # 3.8% from 10 year US treasury bond\n",
    "n_portfolios = 10000  # number of portfolios to simulate"
   ]
  },
  {
   "cell_type": "code",
   "execution_count": 3,
   "metadata": {},
   "outputs": [
    {
     "data": {
      "text/html": [
       "<div>\n",
       "<style scoped>\n",
       "    .dataframe tbody tr th:only-of-type {\n",
       "        vertical-align: middle;\n",
       "    }\n",
       "\n",
       "    .dataframe tbody tr th {\n",
       "        vertical-align: top;\n",
       "    }\n",
       "\n",
       "    .dataframe thead th {\n",
       "        text-align: right;\n",
       "    }\n",
       "</style>\n",
       "<table border=\"1\" class=\"dataframe\">\n",
       "  <thead>\n",
       "    <tr style=\"text-align: right;\">\n",
       "      <th></th>\n",
       "      <th>Date</th>\n",
       "      <th>PX_LAST</th>\n",
       "      <th>CUR_MKT_CAP</th>\n",
       "      <th>PX_VOLUME</th>\n",
       "      <th>Ticker</th>\n",
       "      <th>Market_Value</th>\n",
       "    </tr>\n",
       "  </thead>\n",
       "  <tbody>\n",
       "    <tr>\n",
       "      <th>0</th>\n",
       "      <td>2014-01-02</td>\n",
       "      <td>76.27</td>\n",
       "      <td>134027.7199</td>\n",
       "      <td>5212460.0</td>\n",
       "      <td>DIS</td>\n",
       "      <td>1.022229e+07</td>\n",
       "    </tr>\n",
       "    <tr>\n",
       "      <th>1</th>\n",
       "      <td>2014-01-03</td>\n",
       "      <td>76.11</td>\n",
       "      <td>133746.5552</td>\n",
       "      <td>4061042.0</td>\n",
       "      <td>DIS</td>\n",
       "      <td>1.017945e+07</td>\n",
       "    </tr>\n",
       "    <tr>\n",
       "      <th>2</th>\n",
       "      <td>2014-01-06</td>\n",
       "      <td>75.82</td>\n",
       "      <td>133236.9441</td>\n",
       "      <td>6816693.0</td>\n",
       "      <td>DIS</td>\n",
       "      <td>1.010203e+07</td>\n",
       "    </tr>\n",
       "    <tr>\n",
       "      <th>3</th>\n",
       "      <td>2014-01-07</td>\n",
       "      <td>76.34</td>\n",
       "      <td>134150.7295</td>\n",
       "      <td>4511157.0</td>\n",
       "      <td>DIS</td>\n",
       "      <td>1.024107e+07</td>\n",
       "    </tr>\n",
       "    <tr>\n",
       "      <th>4</th>\n",
       "      <td>2014-01-08</td>\n",
       "      <td>75.22</td>\n",
       "      <td>132182.5763</td>\n",
       "      <td>10914858.0</td>\n",
       "      <td>DIS</td>\n",
       "      <td>9.942773e+06</td>\n",
       "    </tr>\n",
       "  </tbody>\n",
       "</table>\n",
       "</div>"
      ],
      "text/plain": [
       "         Date  PX_LAST  CUR_MKT_CAP   PX_VOLUME Ticker  Market_Value\n",
       "0  2014-01-02    76.27  134027.7199   5212460.0    DIS  1.022229e+07\n",
       "1  2014-01-03    76.11  133746.5552   4061042.0    DIS  1.017945e+07\n",
       "2  2014-01-06    75.82  133236.9441   6816693.0    DIS  1.010203e+07\n",
       "3  2014-01-07    76.34  134150.7295   4511157.0    DIS  1.024107e+07\n",
       "4  2014-01-08    75.22  132182.5763  10914858.0    DIS  9.942773e+06"
      ]
     },
     "execution_count": 3,
     "metadata": {},
     "output_type": "execute_result"
    }
   ],
   "source": [
    "df = pd.read_csv('data.csv')\n",
    "df = df.dropna()  # VRTX has null PX_LAST in 2015-05-12\n",
    "df.head()"
   ]
  },
  {
   "cell_type": "code",
   "execution_count": 4,
   "metadata": {},
   "outputs": [
    {
     "data": {
      "text/plain": [
       "array(['DIS', 'UHS', 'GOOGL', 'LOW', 'BSX', 'JPM', 'EOG', 'SBAC', 'STT',\n",
       "       'DVN', 'VRTX', 'BK', 'ALL', 'WY', 'OXY', 'ON', 'EXC', 'UAL',\n",
       "       'AKAM', 'SMCI', 'LYV', 'AMD', 'VLO', 'NI', 'DRI', 'SJM', 'APH',\n",
       "       'MAS', 'CMG', 'TXT'], dtype=object)"
      ]
     },
     "execution_count": 4,
     "metadata": {},
     "output_type": "execute_result"
    }
   ],
   "source": [
    "tickers = df['Ticker'].unique()\n",
    "tickers"
   ]
  },
  {
   "cell_type": "code",
   "execution_count": 5,
   "metadata": {},
   "outputs": [],
   "source": [
    "def daily_return(df: pd.DataFrame) -> pd.DataFrame:\n",
    "    if 'Ticker' not in df.columns or 'PX_LAST' not in df.columns:\n",
    "        raise ValueError('Input DataFrame must have columns Ticker and PX_LAST')\n",
    "    \n",
    "    df['Daily_Return'] = df.groupby('Ticker')['PX_LAST'].pct_change()\n",
    "    df.loc[df['Daily_Return'].isna(), 'Daily_Return'] = 0\n",
    "    return df"
   ]
  },
  {
   "cell_type": "code",
   "execution_count": 6,
   "metadata": {},
   "outputs": [
    {
     "data": {
      "text/html": [
       "<div>\n",
       "<style scoped>\n",
       "    .dataframe tbody tr th:only-of-type {\n",
       "        vertical-align: middle;\n",
       "    }\n",
       "\n",
       "    .dataframe tbody tr th {\n",
       "        vertical-align: top;\n",
       "    }\n",
       "\n",
       "    .dataframe thead th {\n",
       "        text-align: right;\n",
       "    }\n",
       "</style>\n",
       "<table border=\"1\" class=\"dataframe\">\n",
       "  <thead>\n",
       "    <tr style=\"text-align: right;\">\n",
       "      <th></th>\n",
       "      <th>Date</th>\n",
       "      <th>PX_LAST</th>\n",
       "      <th>CUR_MKT_CAP</th>\n",
       "      <th>PX_VOLUME</th>\n",
       "      <th>Ticker</th>\n",
       "      <th>Market_Value</th>\n",
       "      <th>Daily_Return</th>\n",
       "    </tr>\n",
       "  </thead>\n",
       "  <tbody>\n",
       "    <tr>\n",
       "      <th>0</th>\n",
       "      <td>2014-01-02</td>\n",
       "      <td>76.27</td>\n",
       "      <td>134027.7199</td>\n",
       "      <td>5212460.0</td>\n",
       "      <td>DIS</td>\n",
       "      <td>1.022229e+07</td>\n",
       "      <td>0.000000</td>\n",
       "    </tr>\n",
       "    <tr>\n",
       "      <th>1</th>\n",
       "      <td>2014-01-03</td>\n",
       "      <td>76.11</td>\n",
       "      <td>133746.5552</td>\n",
       "      <td>4061042.0</td>\n",
       "      <td>DIS</td>\n",
       "      <td>1.017945e+07</td>\n",
       "      <td>-0.002098</td>\n",
       "    </tr>\n",
       "    <tr>\n",
       "      <th>2</th>\n",
       "      <td>2014-01-06</td>\n",
       "      <td>75.82</td>\n",
       "      <td>133236.9441</td>\n",
       "      <td>6816693.0</td>\n",
       "      <td>DIS</td>\n",
       "      <td>1.010203e+07</td>\n",
       "      <td>-0.003810</td>\n",
       "    </tr>\n",
       "    <tr>\n",
       "      <th>3</th>\n",
       "      <td>2014-01-07</td>\n",
       "      <td>76.34</td>\n",
       "      <td>134150.7295</td>\n",
       "      <td>4511157.0</td>\n",
       "      <td>DIS</td>\n",
       "      <td>1.024107e+07</td>\n",
       "      <td>0.006858</td>\n",
       "    </tr>\n",
       "    <tr>\n",
       "      <th>4</th>\n",
       "      <td>2014-01-08</td>\n",
       "      <td>75.22</td>\n",
       "      <td>132182.5763</td>\n",
       "      <td>10914858.0</td>\n",
       "      <td>DIS</td>\n",
       "      <td>9.942773e+06</td>\n",
       "      <td>-0.014671</td>\n",
       "    </tr>\n",
       "  </tbody>\n",
       "</table>\n",
       "</div>"
      ],
      "text/plain": [
       "        Date  PX_LAST  CUR_MKT_CAP   PX_VOLUME Ticker  Market_Value  \\\n",
       "0 2014-01-02    76.27  134027.7199   5212460.0    DIS  1.022229e+07   \n",
       "1 2014-01-03    76.11  133746.5552   4061042.0    DIS  1.017945e+07   \n",
       "2 2014-01-06    75.82  133236.9441   6816693.0    DIS  1.010203e+07   \n",
       "3 2014-01-07    76.34  134150.7295   4511157.0    DIS  1.024107e+07   \n",
       "4 2014-01-08    75.22  132182.5763  10914858.0    DIS  9.942773e+06   \n",
       "\n",
       "   Daily_Return  \n",
       "0      0.000000  \n",
       "1     -0.002098  \n",
       "2     -0.003810  \n",
       "3      0.006858  \n",
       "4     -0.014671  "
      ]
     },
     "execution_count": 6,
     "metadata": {},
     "output_type": "execute_result"
    }
   ],
   "source": [
    "df = daily_return(df)\n",
    "df['Date'] = pd.to_datetime(df['Date'])\n",
    "df.head()"
   ]
  },
  {
   "cell_type": "code",
   "execution_count": null,
   "metadata": {},
   "outputs": [],
   "source": []
  }
 ],
 "metadata": {
  "kernelspec": {
   "display_name": "Python 3",
   "language": "python",
   "name": "python3"
  },
  "language_info": {
   "codemirror_mode": {
    "name": "ipython",
    "version": 3
   },
   "file_extension": ".py",
   "mimetype": "text/x-python",
   "name": "python",
   "nbconvert_exporter": "python",
   "pygments_lexer": "ipython3",
   "version": "3.10.12"
  }
 },
 "nbformat": 4,
 "nbformat_minor": 2
}

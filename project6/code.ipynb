{
 "cells": [
  {
   "cell_type": "markdown",
   "metadata": {},
   "source": [
    "# Project 6\n",
    "\n",
    "Forecast annual S&P500 returns using lagged log price dividend ratio\n",
    "\n",
    "1) full sample\n",
    "\n",
    "2) out-of-sample"
   ]
  },
  {
   "cell_type": "code",
   "execution_count": 32,
   "metadata": {},
   "outputs": [],
   "source": [
    "import yfinance as yf\n",
    "import vectorbt as vbt\n",
    "import pandas as pd\n",
    "import numpy as np\n",
    "import statsmodels.api as sm\n",
    "import matplotlib.pyplot as plt"
   ]
  },
  {
   "cell_type": "markdown",
   "metadata": {},
   "source": [
    "# Get log price to dividend ratio"
   ]
  },
  {
   "cell_type": "code",
   "execution_count": 33,
   "metadata": {},
   "outputs": [],
   "source": [
    "start_date = '2000-01-01'\n",
    "end_date = '2023-12-31'\n",
    "ticker = [\"SPY\"]\n",
    "\n",
    "div = vbt.YFData.download(ticker, start=start_date,end=end_date).get(\"Dividends\")\n",
    "div.index = pd.to_datetime(div.index.date)\n",
    "# Annual Dividends\n",
    "div_12m = div.rolling(\"365D\").sum()\n",
    "\n",
    "# Download the daily data from stocks\n",
    "price = yf.download(ticker, start=start_date,end=end_date, progress=False)['Adj Close']\n",
    "daily_returns = price.pct_change()\n",
    "data = pd.DataFrame({\"Price\":price,\"Annual_Dividends\":div_12m})"
   ]
  },
  {
   "cell_type": "code",
   "execution_count": 34,
   "metadata": {},
   "outputs": [
    {
     "data": {
      "text/html": [
       "<div>\n",
       "<style scoped>\n",
       "    .dataframe tbody tr th:only-of-type {\n",
       "        vertical-align: middle;\n",
       "    }\n",
       "\n",
       "    .dataframe tbody tr th {\n",
       "        vertical-align: top;\n",
       "    }\n",
       "\n",
       "    .dataframe thead th {\n",
       "        text-align: right;\n",
       "    }\n",
       "</style>\n",
       "<table border=\"1\" class=\"dataframe\">\n",
       "  <thead>\n",
       "    <tr style=\"text-align: right;\">\n",
       "      <th></th>\n",
       "      <th>Price</th>\n",
       "      <th>Annual_Dividends</th>\n",
       "      <th>PD_Ratio</th>\n",
       "      <th>Log_PD_Ratio</th>\n",
       "    </tr>\n",
       "  </thead>\n",
       "  <tbody>\n",
       "    <tr>\n",
       "      <th>2000-03-17</th>\n",
       "      <td>94.202950</td>\n",
       "      <td>0.371</td>\n",
       "      <td>253.916306</td>\n",
       "      <td>5.537005</td>\n",
       "    </tr>\n",
       "    <tr>\n",
       "      <th>2000-03-20</th>\n",
       "      <td>93.722122</td>\n",
       "      <td>0.371</td>\n",
       "      <td>252.620275</td>\n",
       "      <td>5.531887</td>\n",
       "    </tr>\n",
       "    <tr>\n",
       "      <th>2000-03-21</th>\n",
       "      <td>95.645454</td>\n",
       "      <td>0.371</td>\n",
       "      <td>257.804459</td>\n",
       "      <td>5.552201</td>\n",
       "    </tr>\n",
       "    <tr>\n",
       "      <th>2000-03-22</th>\n",
       "      <td>96.226486</td>\n",
       "      <td>0.371</td>\n",
       "      <td>259.370583</td>\n",
       "      <td>5.558258</td>\n",
       "    </tr>\n",
       "    <tr>\n",
       "      <th>2000-03-23</th>\n",
       "      <td>97.869278</td>\n",
       "      <td>0.371</td>\n",
       "      <td>263.798593</td>\n",
       "      <td>5.575186</td>\n",
       "    </tr>\n",
       "    <tr>\n",
       "      <th>...</th>\n",
       "      <td>...</td>\n",
       "      <td>...</td>\n",
       "      <td>...</td>\n",
       "      <td>...</td>\n",
       "    </tr>\n",
       "    <tr>\n",
       "      <th>2023-12-22</th>\n",
       "      <td>469.225250</td>\n",
       "      <td>6.633</td>\n",
       "      <td>70.741030</td>\n",
       "      <td>4.259026</td>\n",
       "    </tr>\n",
       "    <tr>\n",
       "      <th>2023-12-26</th>\n",
       "      <td>471.206573</td>\n",
       "      <td>6.633</td>\n",
       "      <td>71.039737</td>\n",
       "      <td>4.263239</td>\n",
       "    </tr>\n",
       "    <tr>\n",
       "      <th>2023-12-27</th>\n",
       "      <td>472.058533</td>\n",
       "      <td>6.633</td>\n",
       "      <td>71.168179</td>\n",
       "      <td>4.265046</td>\n",
       "    </tr>\n",
       "    <tr>\n",
       "      <th>2023-12-28</th>\n",
       "      <td>472.236847</td>\n",
       "      <td>6.633</td>\n",
       "      <td>71.195062</td>\n",
       "      <td>4.265423</td>\n",
       "    </tr>\n",
       "    <tr>\n",
       "      <th>2023-12-29</th>\n",
       "      <td>470.869751</td>\n",
       "      <td>6.633</td>\n",
       "      <td>70.988957</td>\n",
       "      <td>4.262524</td>\n",
       "    </tr>\n",
       "  </tbody>\n",
       "</table>\n",
       "<p>5985 rows × 4 columns</p>\n",
       "</div>"
      ],
      "text/plain": [
       "                 Price  Annual_Dividends    PD_Ratio  Log_PD_Ratio\n",
       "2000-03-17   94.202950             0.371  253.916306      5.537005\n",
       "2000-03-20   93.722122             0.371  252.620275      5.531887\n",
       "2000-03-21   95.645454             0.371  257.804459      5.552201\n",
       "2000-03-22   96.226486             0.371  259.370583      5.558258\n",
       "2000-03-23   97.869278             0.371  263.798593      5.575186\n",
       "...                ...               ...         ...           ...\n",
       "2023-12-22  469.225250             6.633   70.741030      4.259026\n",
       "2023-12-26  471.206573             6.633   71.039737      4.263239\n",
       "2023-12-27  472.058533             6.633   71.168179      4.265046\n",
       "2023-12-28  472.236847             6.633   71.195062      4.265423\n",
       "2023-12-29  470.869751             6.633   70.988957      4.262524\n",
       "\n",
       "[5985 rows x 4 columns]"
      ]
     },
     "execution_count": 34,
     "metadata": {},
     "output_type": "execute_result"
    }
   ],
   "source": [
    "# Drop where Annual Dividends equal to 0\n",
    "data[\"Annual_Dividends\"] = data[\"Annual_Dividends\"].replace(0,np.nan)\n",
    "data[\"PD_Ratio\"] = data['Price'] / data['Annual_Dividends']\n",
    "data[\"Log_PD_Ratio\"] = np.log(data['Price'] / data['Annual_Dividends'])\n",
    "data = data.dropna()\n",
    "data"
   ]
  },
  {
   "cell_type": "code",
   "execution_count": 35,
   "metadata": {},
   "outputs": [
    {
     "name": "stderr",
     "output_type": "stream",
     "text": [
      "/home/pedro/Documents/quantitativeFinance/quant_fin/env/lib/python3.10/site-packages/statsmodels/tsa/base/tsa_model.py:473: ValueWarning: A date index has been provided, but it has no associated frequency information and so will be ignored when e.g. forecasting.\n",
      "  self._init_dates(dates, freq)\n",
      "/home/pedro/Documents/quantitativeFinance/quant_fin/env/lib/python3.10/site-packages/statsmodels/tsa/base/tsa_model.py:473: ValueWarning: A date index has been provided, but it has no associated frequency information and so will be ignored when e.g. forecasting.\n",
      "  self._init_dates(dates, freq)\n",
      "/home/pedro/Documents/quantitativeFinance/quant_fin/env/lib/python3.10/site-packages/statsmodels/tsa/base/tsa_model.py:473: ValueWarning: A date index has been provided, but it has no associated frequency information and so will be ignored when e.g. forecasting.\n",
      "  self._init_dates(dates, freq)\n"
     ]
    },
    {
     "name": "stdout",
     "output_type": "stream",
     "text": [
      "                               SARIMAX Results                                \n",
      "==============================================================================\n",
      "Dep. Variable:           Log_PD_Ratio   No. Observations:                 5985\n",
      "Model:                 ARIMA(2, 1, 1)   Log Likelihood               10584.038\n",
      "Date:                Wed, 09 Oct 2024   AIC                         -21160.077\n",
      "Time:                        11:48:05   BIC                         -21133.290\n",
      "Sample:                             0   HQIC                        -21150.773\n",
      "                               - 5985                                         \n",
      "Covariance Type:                  opg                                         \n",
      "==============================================================================\n",
      "                 coef    std err          z      P>|z|      [0.025      0.975]\n",
      "------------------------------------------------------------------------------\n",
      "ar.L1          0.4519      0.017     25.973      0.000       0.418       0.486\n",
      "ar.L2          0.1232      0.014      8.557      0.000       0.095       0.151\n",
      "ma.L1         -0.8465      0.017    -49.794      0.000      -0.880      -0.813\n",
      "sigma2         0.0017    7.4e-06    230.204      0.000       0.002       0.002\n",
      "===================================================================================\n",
      "Ljung-Box (L1) (Q):                   0.01   Jarque-Bera (JB):            348809.22\n",
      "Prob(Q):                              0.93   Prob(JB):                         0.00\n",
      "Heteroskedasticity (H):               0.76   Skew:                            -2.86\n",
      "Prob(H) (two-sided):                  0.00   Kurtosis:                        39.96\n",
      "===================================================================================\n",
      "\n",
      "Warnings:\n",
      "[1] Covariance matrix calculated using the outer product of gradients (complex-step).\n"
     ]
    }
   ],
   "source": [
    "from statsmodels.tsa.arima.model import ARIMA\n",
    "\n",
    "mod = ARIMA(data[\"Log_PD_Ratio\"], order=(2,1,1))\n",
    "res = mod.fit()\n",
    "print(res.summary())"
   ]
  },
  {
   "cell_type": "code",
   "execution_count": 56,
   "metadata": {},
   "outputs": [
    {
     "data": {
      "text/plain": [
       "<Axes: >"
      ]
     },
     "execution_count": 56,
     "metadata": {},
     "output_type": "execute_result"
    },
    {
     "data": {
      "image/png": "[encoded data removed]",
      "text/plain": [
       "<Figure size 640x480 with 1 Axes>"
      ]
     },
     "metadata": {},
     "output_type": "display_data"
    }
   ],
   "source": [
    "res.predict(start=\"2023-12-12\").plot()\n",
    "data['Log_PD_Ratio'].loc[data.index>=\"2023-12-12\"].plot()"
   ]
  }
 ],
 "metadata": {
  "kernelspec": {
   "display_name": "env",
   "language": "python",
   "name": "python3"
  },
  "language_info": {
   "codemirror_mode": {
    "name": "ipython",
    "version": 3
   },
   "file_extension": ".py",
   "mimetype": "text/x-python",
   "name": "python",
   "nbconvert_exporter": "python",
   "pygments_lexer": "ipython3",
   "version": "3.10.15"
  }
 },
 "nbformat": 4,
 "nbformat_minor": 2
}

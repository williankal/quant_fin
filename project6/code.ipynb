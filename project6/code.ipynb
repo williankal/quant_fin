{
 "cells": [
  {
   "cell_type": "markdown",
   "metadata": {},
   "source": [
    "# Project 6\n",
    "\n",
    "Forecast annual S&P500 returns using lagged log price dividend ratio\n",
    "\n",
    "1) full sample\n",
    "\n",
    "2) out-of-sample"
   ]
  },
  {
   "cell_type": "code",
   "execution_count": null,
   "metadata": {},
   "outputs": [],
   "source": []
  }
 ],
 "metadata": {
  "language_info": {
   "name": "python"
  }
 },
 "nbformat": 4,
 "nbformat_minor": 2
}

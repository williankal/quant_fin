{
 "cells": [
  {
   "cell_type": "code",
   "execution_count": 179,
   "metadata": {},
   "outputs": [
    {
     "data": {
      "text/html": [
       "<div>\n",
       "<style scoped>\n",
       "    .dataframe tbody tr th:only-of-type {\n",
       "        vertical-align: middle;\n",
       "    }\n",
       "\n",
       "    .dataframe tbody tr th {\n",
       "        vertical-align: top;\n",
       "    }\n",
       "\n",
       "    .dataframe thead th {\n",
       "        text-align: right;\n",
       "    }\n",
       "</style>\n",
       "<table border=\"1\" class=\"dataframe\">\n",
       "  <thead>\n",
       "    <tr style=\"text-align: right;\">\n",
       "      <th></th>\n",
       "      <th>Date</th>\n",
       "      <th>PX_LAST</th>\n",
       "      <th>PX_OPEN</th>\n",
       "      <th>PX_HIGH</th>\n",
       "      <th>PX_LOW</th>\n",
       "      <th>PX_VOLUME</th>\n",
       "      <th>CUR_MKT_CAP</th>\n",
       "      <th>Ticker</th>\n",
       "      <th>Market_Value</th>\n",
       "    </tr>\n",
       "  </thead>\n",
       "  <tbody>\n",
       "    <tr>\n",
       "      <th>0</th>\n",
       "      <td>2014-01-02</td>\n",
       "      <td>76.27</td>\n",
       "      <td>76.04</td>\n",
       "      <td>76.500</td>\n",
       "      <td>75.90</td>\n",
       "      <td>5212460.0</td>\n",
       "      <td>134027.7199</td>\n",
       "      <td>DIS</td>\n",
       "      <td>1.022229e+07</td>\n",
       "    </tr>\n",
       "    <tr>\n",
       "      <th>1</th>\n",
       "      <td>2014-01-03</td>\n",
       "      <td>76.11</td>\n",
       "      <td>76.30</td>\n",
       "      <td>76.697</td>\n",
       "      <td>76.01</td>\n",
       "      <td>4061042.0</td>\n",
       "      <td>133746.5552</td>\n",
       "      <td>DIS</td>\n",
       "      <td>1.017945e+07</td>\n",
       "    </tr>\n",
       "    <tr>\n",
       "      <th>2</th>\n",
       "      <td>2014-01-06</td>\n",
       "      <td>75.82</td>\n",
       "      <td>76.53</td>\n",
       "      <td>76.840</td>\n",
       "      <td>75.49</td>\n",
       "      <td>6816693.0</td>\n",
       "      <td>133236.9441</td>\n",
       "      <td>DIS</td>\n",
       "      <td>1.010203e+07</td>\n",
       "    </tr>\n",
       "    <tr>\n",
       "      <th>3</th>\n",
       "      <td>2014-01-07</td>\n",
       "      <td>76.34</td>\n",
       "      <td>76.12</td>\n",
       "      <td>76.700</td>\n",
       "      <td>75.90</td>\n",
       "      <td>4511157.0</td>\n",
       "      <td>134150.7295</td>\n",
       "      <td>DIS</td>\n",
       "      <td>1.024107e+07</td>\n",
       "    </tr>\n",
       "    <tr>\n",
       "      <th>4</th>\n",
       "      <td>2014-01-08</td>\n",
       "      <td>75.22</td>\n",
       "      <td>76.13</td>\n",
       "      <td>76.280</td>\n",
       "      <td>74.81</td>\n",
       "      <td>10914858.0</td>\n",
       "      <td>132182.5763</td>\n",
       "      <td>DIS</td>\n",
       "      <td>9.942773e+06</td>\n",
       "    </tr>\n",
       "  </tbody>\n",
       "</table>\n",
       "</div>"
      ],
      "text/plain": [
       "         Date  PX_LAST  PX_OPEN  PX_HIGH  PX_LOW   PX_VOLUME  CUR_MKT_CAP  \\\n",
       "0  2014-01-02    76.27    76.04   76.500   75.90   5212460.0  134027.7199   \n",
       "1  2014-01-03    76.11    76.30   76.697   76.01   4061042.0  133746.5552   \n",
       "2  2014-01-06    75.82    76.53   76.840   75.49   6816693.0  133236.9441   \n",
       "3  2014-01-07    76.34    76.12   76.700   75.90   4511157.0  134150.7295   \n",
       "4  2014-01-08    75.22    76.13   76.280   74.81  10914858.0  132182.5763   \n",
       "\n",
       "  Ticker  Market_Value  \n",
       "0    DIS  1.022229e+07  \n",
       "1    DIS  1.017945e+07  \n",
       "2    DIS  1.010203e+07  \n",
       "3    DIS  1.024107e+07  \n",
       "4    DIS  9.942773e+06  "
      ]
     },
     "execution_count": 179,
     "metadata": {},
     "output_type": "execute_result"
    }
   ],
   "source": [
    "import pandas as pd\n",
    "import plotly.express as px\n",
    "\n",
    "df = pd.read_csv(\"../project1-partA/project1_data.csv\")\n",
    "df.head()"
   ]
  },
  {
   "cell_type": "code",
   "execution_count": 180,
   "metadata": {},
   "outputs": [],
   "source": [
    "n_tickers = len(df[\"Ticker\"].unique())\n",
    "\n",
    "df['Date'] = pd.to_datetime(df['Date'])\n",
    "\n",
    "# Column called total market value that is the total market value per day\n",
    "df[\"Total_Market_Value_Day\"] = df.groupby('Date')['Market_Value'].transform(\"sum\")\n",
    "\n",
    "# Value Weight column\n",
    "df[\"Value_Weight\"] = df[\"Market_Value\"] / df[\"Total_Market_Value_Day\"]\n",
    "\n",
    "# Equal Weight column\n",
    "df[\"Equal_Weight\"] = 1 / n_tickers\n"
   ]
  },
  {
   "cell_type": "code",
   "execution_count": 181,
   "metadata": {},
   "outputs": [
    {
     "data": {
      "application/vnd.plotly.v1+json": {
       "config": {
        "plotlyServerURL": "https://plot.ly"
       },
       "data": [
        {
         "domain": {
          "x": [
           0,
           1
          ],
          "y": [
           0,
           1
          ]
         },
         "hovertemplate": "Ticker=%{label}<br>Value_Weight=%{value}<extra></extra>",
         "labels": [
          "DIS",
          "UHS",
          "GOOGL",
          "LOW",
          "BSX",
          "EOG",
          "SBAC",
          "STT",
          "DVN",
          "VRTX",
          "BK",
          "ALL",
          "WY",
          "OXY",
          "ON",
          "EXC",
          "UAL",
          "AKAM",
          "SMCI",
          "LYV",
          "AMD",
          "VLO",
          "NI",
          "DRI",
          "SJM",
          "MAS",
          "CMG"
         ],
         "legendgroup": "",
         "name": "",
         "showlegend": true,
         "textinfo": "percent+label",
         "textposition": "inside",
         "type": "pie",
         "values": [
          0.22030174113008613,
          0.0114153380309479,
          0.22645017705771944,
          0.04750342613282383,
          0.00440141161167041,
          0.09024529265659305,
          0.021230841289017446,
          0.03584598962946138,
          0.030702371732992544,
          0.0272761204763474,
          0.022052872924437476,
          0.0246361193721863,
          0.009614152640053292,
          0.1279096983549718,
          0.0007501957025196017,
          0.009835794148796788,
          0.015484861041273308,
          0.012173068834869263,
          0.0003510460007457924,
          0.0019263254133215454,
          0.0001828881871699191,
          0.026957093041758654,
          0.0026509676128405654,
          0.005090192751628192,
          0.01789209442908028,
          0.0031664132229120086,
          0.003953506573775671
         ]
        }
       ],
       "layout": {
        "legend": {
         "tracegroupgap": 0
        },
        "template": {
         "data": {
          "bar": [
           {
            "error_x": {
             "color": "#2a3f5f"
            },
            "error_y": {
             "color": "#2a3f5f"
            },
            "marker": {
             "line": {
              "color": "#E5ECF6",
              "width": 0.5
             },
             "pattern": {
              "fillmode": "overlay",
              "size": 10,
              "solidity": 0.2
             }
            },
            "type": "bar"
           }
          ],
          "barpolar": [
           {
            "marker": {
             "line": {
              "color": "#E5ECF6",
              "width": 0.5
             },
             "pattern": {
              "fillmode": "overlay",
              "size": 10,
              "solidity": 0.2
             }
            },
            "type": "barpolar"
           }
          ],
          "carpet": [
           {
            "aaxis": {
             "endlinecolor": "#2a3f5f",
             "gridcolor": "white",
             "linecolor": "white",
             "minorgridcolor": "white",
             "startlinecolor": "#2a3f5f"
            },
            "baxis": {
             "endlinecolor": "#2a3f5f",
             "gridcolor": "white",
             "linecolor": "white",
             "minorgridcolor": "white",
             "startlinecolor": "#2a3f5f"
            },
            "type": "carpet"
           }
          ],
          "choropleth": [
           {
            "colorbar": {
             "outlinewidth": 0,
             "ticks": ""
            },
            "type": "choropleth"
           }
          ],
          "contour": [
           {
            "colorbar": {
             "outlinewidth": 0,
             "ticks": ""
            },
            "colorscale": [
             [
              0,
              "#0d0887"
             ],
             [
              0.1111111111111111,
              "#46039f"
             ],
             [
              0.2222222222222222,
              "#7201a8"
             ],
             [
              0.3333333333333333,
              "#9c179e"
             ],
             [
              0.4444444444444444,
              "#bd3786"
             ],
             [
              0.5555555555555556,
              "#d8576b"
             ],
             [
              0.6666666666666666,
              "#ed7953"
             ],
             [
              0.7777777777777778,
              "#fb9f3a"
             ],
             [
              0.8888888888888888,
              "#fdca26"
             ],
             [
              1,
              "#f0f921"
             ]
            ],
            "type": "contour"
           }
          ],
          "contourcarpet": [
           {
            "colorbar": {
             "outlinewidth": 0,
             "ticks": ""
            },
            "type": "contourcarpet"
           }
          ],
          "heatmap": [
           {
            "colorbar": {
             "outlinewidth": 0,
             "ticks": ""
            },
            "colorscale": [
             [
              0,
              "#0d0887"
             ],
             [
              0.1111111111111111,
              "#46039f"
             ],
             [
              0.2222222222222222,
              "#7201a8"
             ],
             [
              0.3333333333333333,
              "#9c179e"
             ],
             [
              0.4444444444444444,
              "#bd3786"
             ],
             [
              0.5555555555555556,
              "#d8576b"
             ],
             [
              0.6666666666666666,
              "#ed7953"
             ],
             [
              0.7777777777777778,
              "#fb9f3a"
             ],
             [
              0.8888888888888888,
              "#fdca26"
             ],
             [
              1,
              "#f0f921"
             ]
            ],
            "type": "heatmap"
           }
          ],
          "heatmapgl": [
           {
            "colorbar": {
             "outlinewidth": 0,
             "ticks": ""
            },
            "colorscale": [
             [
              0,
              "#0d0887"
             ],
             [
              0.1111111111111111,
              "#46039f"
             ],
             [
              0.2222222222222222,
              "#7201a8"
             ],
             [
              0.3333333333333333,
              "#9c179e"
             ],
             [
              0.4444444444444444,
              "#bd3786"
             ],
             [
              0.5555555555555556,
              "#d8576b"
             ],
             [
              0.6666666666666666,
              "#ed7953"
             ],
             [
              0.7777777777777778,
              "#fb9f3a"
             ],
             [
              0.8888888888888888,
              "#fdca26"
             ],
             [
              1,
              "#f0f921"
             ]
            ],
            "type": "heatmapgl"
           }
          ],
          "histogram": [
           {
            "marker": {
             "pattern": {
              "fillmode": "overlay",
              "size": 10,
              "solidity": 0.2
             }
            },
            "type": "histogram"
           }
          ],
          "histogram2d": [
           {
            "colorbar": {
             "outlinewidth": 0,
             "ticks": ""
            },
            "colorscale": [
             [
              0,
              "#0d0887"
             ],
             [
              0.1111111111111111,
              "#46039f"
             ],
             [
              0.2222222222222222,
              "#7201a8"
             ],
             [
              0.3333333333333333,
              "#9c179e"
             ],
             [
              0.4444444444444444,
              "#bd3786"
             ],
             [
              0.5555555555555556,
              "#d8576b"
             ],
             [
              0.6666666666666666,
              "#ed7953"
             ],
             [
              0.7777777777777778,
              "#fb9f3a"
             ],
             [
              0.8888888888888888,
              "#fdca26"
             ],
             [
              1,
              "#f0f921"
             ]
            ],
            "type": "histogram2d"
           }
          ],
          "histogram2dcontour": [
           {
            "colorbar": {
             "outlinewidth": 0,
             "ticks": ""
            },
            "colorscale": [
             [
              0,
              "#0d0887"
             ],
             [
              0.1111111111111111,
              "#46039f"
             ],
             [
              0.2222222222222222,
              "#7201a8"
             ],
             [
              0.3333333333333333,
              "#9c179e"
             ],
             [
              0.4444444444444444,
              "#bd3786"
             ],
             [
              0.5555555555555556,
              "#d8576b"
             ],
             [
              0.6666666666666666,
              "#ed7953"
             ],
             [
              0.7777777777777778,
              "#fb9f3a"
             ],
             [
              0.8888888888888888,
              "#fdca26"
             ],
             [
              1,
              "#f0f921"
             ]
            ],
            "type": "histogram2dcontour"
           }
          ],
          "mesh3d": [
           {
            "colorbar": {
             "outlinewidth": 0,
             "ticks": ""
            },
            "type": "mesh3d"
           }
          ],
          "parcoords": [
           {
            "line": {
             "colorbar": {
              "outlinewidth": 0,
              "ticks": ""
             }
            },
            "type": "parcoords"
           }
          ],
          "pie": [
           {
            "automargin": true,
            "type": "pie"
           }
          ],
          "scatter": [
           {
            "fillpattern": {
             "fillmode": "overlay",
             "size": 10,
             "solidity": 0.2
            },
            "type": "scatter"
           }
          ],
          "scatter3d": [
           {
            "line": {
             "colorbar": {
              "outlinewidth": 0,
              "ticks": ""
             }
            },
            "marker": {
             "colorbar": {
              "outlinewidth": 0,
              "ticks": ""
             }
            },
            "type": "scatter3d"
           }
          ],
          "scattercarpet": [
           {
            "marker": {
             "colorbar": {
              "outlinewidth": 0,
              "ticks": ""
             }
            },
            "type": "scattercarpet"
           }
          ],
          "scattergeo": [
           {
            "marker": {
             "colorbar": {
              "outlinewidth": 0,
              "ticks": ""
             }
            },
            "type": "scattergeo"
           }
          ],
          "scattergl": [
           {
            "marker": {
             "colorbar": {
              "outlinewidth": 0,
              "ticks": ""
             }
            },
            "type": "scattergl"
           }
          ],
          "scattermapbox": [
           {
            "marker": {
             "colorbar": {
              "outlinewidth": 0,
              "ticks": ""
             }
            },
            "type": "scattermapbox"
           }
          ],
          "scatterpolar": [
           {
            "marker": {
             "colorbar": {
              "outlinewidth": 0,
              "ticks": ""
             }
            },
            "type": "scatterpolar"
           }
          ],
          "scatterpolargl": [
           {
            "marker": {
             "colorbar": {
              "outlinewidth": 0,
              "ticks": ""
             }
            },
            "type": "scatterpolargl"
           }
          ],
          "scatterternary": [
           {
            "marker": {
             "colorbar": {
              "outlinewidth": 0,
              "ticks": ""
             }
            },
            "type": "scatterternary"
           }
          ],
          "surface": [
           {
            "colorbar": {
             "outlinewidth": 0,
             "ticks": ""
            },
            "colorscale": [
             [
              0,
              "#0d0887"
             ],
             [
              0.1111111111111111,
              "#46039f"
             ],
             [
              0.2222222222222222,
              "#7201a8"
             ],
             [
              0.3333333333333333,
              "#9c179e"
             ],
             [
              0.4444444444444444,
              "#bd3786"
             ],
             [
              0.5555555555555556,
              "#d8576b"
             ],
             [
              0.6666666666666666,
              "#ed7953"
             ],
             [
              0.7777777777777778,
              "#fb9f3a"
             ],
             [
              0.8888888888888888,
              "#fdca26"
             ],
             [
              1,
              "#f0f921"
             ]
            ],
            "type": "surface"
           }
          ],
          "table": [
           {
            "cells": {
             "fill": {
              "color": "#EBF0F8"
             },
             "line": {
              "color": "white"
             }
            },
            "header": {
             "fill": {
              "color": "#C8D4E3"
             },
             "line": {
              "color": "white"
             }
            },
            "type": "table"
           }
          ]
         },
         "layout": {
          "annotationdefaults": {
           "arrowcolor": "#2a3f5f",
           "arrowhead": 0,
           "arrowwidth": 1
          },
          "autotypenumbers": "strict",
          "coloraxis": {
           "colorbar": {
            "outlinewidth": 0,
            "ticks": ""
           }
          },
          "colorscale": {
           "diverging": [
            [
             0,
             "#8e0152"
            ],
            [
             0.1,
             "#c51b7d"
            ],
            [
             0.2,
             "#de77ae"
            ],
            [
             0.3,
             "#f1b6da"
            ],
            [
             0.4,
             "#fde0ef"
            ],
            [
             0.5,
             "#f7f7f7"
            ],
            [
             0.6,
             "#e6f5d0"
            ],
            [
             0.7,
             "#b8e186"
            ],
            [
             0.8,
             "#7fbc41"
            ],
            [
             0.9,
             "#4d9221"
            ],
            [
             1,
             "#276419"
            ]
           ],
           "sequential": [
            [
             0,
             "#0d0887"
            ],
            [
             0.1111111111111111,
             "#46039f"
            ],
            [
             0.2222222222222222,
             "#7201a8"
            ],
            [
             0.3333333333333333,
             "#9c179e"
            ],
            [
             0.4444444444444444,
             "#bd3786"
            ],
            [
             0.5555555555555556,
             "#d8576b"
            ],
            [
             0.6666666666666666,
             "#ed7953"
            ],
            [
             0.7777777777777778,
             "#fb9f3a"
            ],
            [
             0.8888888888888888,
             "#fdca26"
            ],
            [
             1,
             "#f0f921"
            ]
           ],
           "sequentialminus": [
            [
             0,
             "#0d0887"
            ],
            [
             0.1111111111111111,
             "#46039f"
            ],
            [
             0.2222222222222222,
             "#7201a8"
            ],
            [
             0.3333333333333333,
             "#9c179e"
            ],
            [
             0.4444444444444444,
             "#bd3786"
            ],
            [
             0.5555555555555556,
             "#d8576b"
            ],
            [
             0.6666666666666666,
             "#ed7953"
            ],
            [
             0.7777777777777778,
             "#fb9f3a"
            ],
            [
             0.8888888888888888,
             "#fdca26"
            ],
            [
             1,
             "#f0f921"
            ]
           ]
          },
          "colorway": [
           "#636efa",
           "#EF553B",
           "#00cc96",
           "#ab63fa",
           "#FFA15A",
           "#19d3f3",
           "#FF6692",
           "#B6E880",
           "#FF97FF",
           "#FECB52"
          ],
          "font": {
           "color": "#2a3f5f"
          },
          "geo": {
           "bgcolor": "white",
           "lakecolor": "white",
           "landcolor": "#E5ECF6",
           "showlakes": true,
           "showland": true,
           "subunitcolor": "white"
          },
          "hoverlabel": {
           "align": "left"
          },
          "hovermode": "closest",
          "mapbox": {
           "style": "light"
          },
          "paper_bgcolor": "white",
          "plot_bgcolor": "#E5ECF6",
          "polar": {
           "angularaxis": {
            "gridcolor": "white",
            "linecolor": "white",
            "ticks": ""
           },
           "bgcolor": "#E5ECF6",
           "radialaxis": {
            "gridcolor": "white",
            "linecolor": "white",
            "ticks": ""
           }
          },
          "scene": {
           "xaxis": {
            "backgroundcolor": "#E5ECF6",
            "gridcolor": "white",
            "gridwidth": 2,
            "linecolor": "white",
            "showbackground": true,
            "ticks": "",
            "zerolinecolor": "white"
           },
           "yaxis": {
            "backgroundcolor": "#E5ECF6",
            "gridcolor": "white",
            "gridwidth": 2,
            "linecolor": "white",
            "showbackground": true,
            "ticks": "",
            "zerolinecolor": "white"
           },
           "zaxis": {
            "backgroundcolor": "#E5ECF6",
            "gridcolor": "white",
            "gridwidth": 2,
            "linecolor": "white",
            "showbackground": true,
            "ticks": "",
            "zerolinecolor": "white"
           }
          },
          "shapedefaults": {
           "line": {
            "color": "#2a3f5f"
           }
          },
          "ternary": {
           "aaxis": {
            "gridcolor": "white",
            "linecolor": "white",
            "ticks": ""
           },
           "baxis": {
            "gridcolor": "white",
            "linecolor": "white",
            "ticks": ""
           },
           "bgcolor": "#E5ECF6",
           "caxis": {
            "gridcolor": "white",
            "linecolor": "white",
            "ticks": ""
           }
          },
          "title": {
           "x": 0.05
          },
          "xaxis": {
           "automargin": true,
           "gridcolor": "white",
           "linecolor": "white",
           "ticks": "",
           "title": {
            "standoff": 15
           },
           "zerolinecolor": "white",
           "zerolinewidth": 2
          },
          "yaxis": {
           "automargin": true,
           "gridcolor": "white",
           "linecolor": "white",
           "ticks": "",
           "title": {
            "standoff": 15
           },
           "zerolinecolor": "white",
           "zerolinewidth": 2
          }
         }
        },
        "title": {
         "text": "Value-Weighted of portfolio in 2014-03-06"
        },
        "width": 600
       }
      }
     },
     "metadata": {},
     "output_type": "display_data"
    }
   ],
   "source": [
    "import time\n",
    "from datetime import datetime\n",
    "specific_date = \"2014-03-06\"\n",
    "\n",
    "def pie_chart_for_specific_date(df,date):\n",
    "    df_for_pie = df[df[\"Date\"]==date]\n",
    "    fig = px.pie(df_for_pie, values='Value_Weight', names='Ticker', title=f'Value-Weighted of portfolio in {date}',width=600)\n",
    "    fig.update_traces(textposition='inside', textinfo='percent+label')\n",
    "    fig.show()\n",
    "    \n",
    "pie_chart_for_specific_date(df,specific_date)"
   ]
  },
  {
   "cell_type": "code",
   "execution_count": 194,
   "metadata": {},
   "outputs": [
    {
     "data": {
      "text/html": [
       "<div>\n",
       "<style scoped>\n",
       "    .dataframe tbody tr th:only-of-type {\n",
       "        vertical-align: middle;\n",
       "    }\n",
       "\n",
       "    .dataframe tbody tr th {\n",
       "        vertical-align: top;\n",
       "    }\n",
       "\n",
       "    .dataframe thead th {\n",
       "        text-align: right;\n",
       "    }\n",
       "</style>\n",
       "<table border=\"1\" class=\"dataframe\">\n",
       "  <thead>\n",
       "    <tr style=\"text-align: right;\">\n",
       "      <th></th>\n",
       "      <th>Date</th>\n",
       "      <th>PX_LAST</th>\n",
       "      <th>PX_OPEN</th>\n",
       "      <th>PX_HIGH</th>\n",
       "      <th>PX_LOW</th>\n",
       "      <th>PX_VOLUME</th>\n",
       "      <th>CUR_MKT_CAP</th>\n",
       "      <th>Ticker</th>\n",
       "      <th>Market_Value</th>\n",
       "      <th>Total_Market_Value_Day</th>\n",
       "      <th>Value_Weight</th>\n",
       "      <th>Equal_Weight</th>\n",
       "    </tr>\n",
       "  </thead>\n",
       "  <tbody>\n",
       "    <tr>\n",
       "      <th>0</th>\n",
       "      <td>2014-01-02</td>\n",
       "      <td>76.27</td>\n",
       "      <td>76.04</td>\n",
       "      <td>76.500</td>\n",
       "      <td>75.900</td>\n",
       "      <td>5212460.0</td>\n",
       "      <td>134027.7199</td>\n",
       "      <td>DIS</td>\n",
       "      <td>1.022229e+07</td>\n",
       "      <td>4.859792e+07</td>\n",
       "      <td>0.210344</td>\n",
       "      <td>0.033333</td>\n",
       "    </tr>\n",
       "    <tr>\n",
       "      <th>1</th>\n",
       "      <td>2014-01-03</td>\n",
       "      <td>76.11</td>\n",
       "      <td>76.30</td>\n",
       "      <td>76.697</td>\n",
       "      <td>76.010</td>\n",
       "      <td>4061042.0</td>\n",
       "      <td>133746.5552</td>\n",
       "      <td>DIS</td>\n",
       "      <td>1.017945e+07</td>\n",
       "      <td>4.840901e+07</td>\n",
       "      <td>0.210280</td>\n",
       "      <td>0.033333</td>\n",
       "    </tr>\n",
       "    <tr>\n",
       "      <th>2</th>\n",
       "      <td>2014-01-06</td>\n",
       "      <td>75.82</td>\n",
       "      <td>76.53</td>\n",
       "      <td>76.840</td>\n",
       "      <td>75.490</td>\n",
       "      <td>6816693.0</td>\n",
       "      <td>133236.9441</td>\n",
       "      <td>DIS</td>\n",
       "      <td>1.010203e+07</td>\n",
       "      <td>4.849603e+07</td>\n",
       "      <td>0.208306</td>\n",
       "      <td>0.033333</td>\n",
       "    </tr>\n",
       "    <tr>\n",
       "      <th>3</th>\n",
       "      <td>2014-01-07</td>\n",
       "      <td>76.34</td>\n",
       "      <td>76.12</td>\n",
       "      <td>76.700</td>\n",
       "      <td>75.900</td>\n",
       "      <td>4511157.0</td>\n",
       "      <td>134150.7295</td>\n",
       "      <td>DIS</td>\n",
       "      <td>1.024107e+07</td>\n",
       "      <td>4.965378e+07</td>\n",
       "      <td>0.206249</td>\n",
       "      <td>0.033333</td>\n",
       "    </tr>\n",
       "    <tr>\n",
       "      <th>4</th>\n",
       "      <td>2014-01-08</td>\n",
       "      <td>75.22</td>\n",
       "      <td>76.13</td>\n",
       "      <td>76.280</td>\n",
       "      <td>74.810</td>\n",
       "      <td>10914858.0</td>\n",
       "      <td>132182.5763</td>\n",
       "      <td>DIS</td>\n",
       "      <td>9.942773e+06</td>\n",
       "      <td>4.934948e+07</td>\n",
       "      <td>0.201477</td>\n",
       "      <td>0.033333</td>\n",
       "    </tr>\n",
       "    <tr>\n",
       "      <th>...</th>\n",
       "      <td>...</td>\n",
       "      <td>...</td>\n",
       "      <td>...</td>\n",
       "      <td>...</td>\n",
       "      <td>...</td>\n",
       "      <td>...</td>\n",
       "      <td>...</td>\n",
       "      <td>...</td>\n",
       "      <td>...</td>\n",
       "      <td>...</td>\n",
       "      <td>...</td>\n",
       "      <td>...</td>\n",
       "    </tr>\n",
       "    <tr>\n",
       "      <th>75167</th>\n",
       "      <td>2024-08-06</td>\n",
       "      <td>54.08</td>\n",
       "      <td>52.93</td>\n",
       "      <td>55.110</td>\n",
       "      <td>52.659</td>\n",
       "      <td>16405667.0</td>\n",
       "      <td>74061.2621</td>\n",
       "      <td>CMG</td>\n",
       "      <td>4.005233e+06</td>\n",
       "      <td>5.450343e+08</td>\n",
       "      <td>0.007349</td>\n",
       "      <td>0.033333</td>\n",
       "    </tr>\n",
       "    <tr>\n",
       "      <th>75168</th>\n",
       "      <td>2024-08-07</td>\n",
       "      <td>53.63</td>\n",
       "      <td>54.50</td>\n",
       "      <td>55.300</td>\n",
       "      <td>53.410</td>\n",
       "      <td>11238844.0</td>\n",
       "      <td>73444.9979</td>\n",
       "      <td>CMG</td>\n",
       "      <td>3.938855e+06</td>\n",
       "      <td>5.320586e+08</td>\n",
       "      <td>0.007403</td>\n",
       "      <td>0.033333</td>\n",
       "    </tr>\n",
       "    <tr>\n",
       "      <th>75169</th>\n",
       "      <td>2024-08-08</td>\n",
       "      <td>54.32</td>\n",
       "      <td>54.00</td>\n",
       "      <td>54.890</td>\n",
       "      <td>53.740</td>\n",
       "      <td>9305774.0</td>\n",
       "      <td>74389.9363</td>\n",
       "      <td>CMG</td>\n",
       "      <td>4.040861e+06</td>\n",
       "      <td>5.535762e+08</td>\n",
       "      <td>0.007300</td>\n",
       "      <td>0.033333</td>\n",
       "    </tr>\n",
       "    <tr>\n",
       "      <th>75170</th>\n",
       "      <td>2024-08-09</td>\n",
       "      <td>55.55</td>\n",
       "      <td>54.90</td>\n",
       "      <td>56.140</td>\n",
       "      <td>54.530</td>\n",
       "      <td>11569747.0</td>\n",
       "      <td>76074.3918</td>\n",
       "      <td>CMG</td>\n",
       "      <td>4.225932e+06</td>\n",
       "      <td>5.601571e+08</td>\n",
       "      <td>0.007544</td>\n",
       "      <td>0.033333</td>\n",
       "    </tr>\n",
       "    <tr>\n",
       "      <th>75171</th>\n",
       "      <td>2024-08-12</td>\n",
       "      <td>56.15</td>\n",
       "      <td>55.60</td>\n",
       "      <td>56.340</td>\n",
       "      <td>55.080</td>\n",
       "      <td>4246557.0</td>\n",
       "      <td>76896.0795</td>\n",
       "      <td>CMG</td>\n",
       "      <td>4.317715e+06</td>\n",
       "      <td>5.597712e+08</td>\n",
       "      <td>0.007713</td>\n",
       "      <td>0.033333</td>\n",
       "    </tr>\n",
       "  </tbody>\n",
       "</table>\n",
       "<p>75172 rows × 12 columns</p>\n",
       "</div>"
      ],
      "text/plain": [
       "            Date  PX_LAST  PX_OPEN  PX_HIGH  PX_LOW   PX_VOLUME  CUR_MKT_CAP  \\\n",
       "0     2014-01-02    76.27    76.04   76.500  75.900   5212460.0  134027.7199   \n",
       "1     2014-01-03    76.11    76.30   76.697  76.010   4061042.0  133746.5552   \n",
       "2     2014-01-06    75.82    76.53   76.840  75.490   6816693.0  133236.9441   \n",
       "3     2014-01-07    76.34    76.12   76.700  75.900   4511157.0  134150.7295   \n",
       "4     2014-01-08    75.22    76.13   76.280  74.810  10914858.0  132182.5763   \n",
       "...          ...      ...      ...      ...     ...         ...          ...   \n",
       "75167 2024-08-06    54.08    52.93   55.110  52.659  16405667.0   74061.2621   \n",
       "75168 2024-08-07    53.63    54.50   55.300  53.410  11238844.0   73444.9979   \n",
       "75169 2024-08-08    54.32    54.00   54.890  53.740   9305774.0   74389.9363   \n",
       "75170 2024-08-09    55.55    54.90   56.140  54.530  11569747.0   76074.3918   \n",
       "75171 2024-08-12    56.15    55.60   56.340  55.080   4246557.0   76896.0795   \n",
       "\n",
       "      Ticker  Market_Value  Total_Market_Value_Day  Value_Weight  Equal_Weight  \n",
       "0        DIS  1.022229e+07            4.859792e+07      0.210344      0.033333  \n",
       "1        DIS  1.017945e+07            4.840901e+07      0.210280      0.033333  \n",
       "2        DIS  1.010203e+07            4.849603e+07      0.208306      0.033333  \n",
       "3        DIS  1.024107e+07            4.965378e+07      0.206249      0.033333  \n",
       "4        DIS  9.942773e+06            4.934948e+07      0.201477      0.033333  \n",
       "...      ...           ...                     ...           ...           ...  \n",
       "75167    CMG  4.005233e+06            5.450343e+08      0.007349      0.033333  \n",
       "75168    CMG  3.938855e+06            5.320586e+08      0.007403      0.033333  \n",
       "75169    CMG  4.040861e+06            5.535762e+08      0.007300      0.033333  \n",
       "75170    CMG  4.225932e+06            5.601571e+08      0.007544      0.033333  \n",
       "75171    CMG  4.317715e+06            5.597712e+08      0.007713      0.033333  \n",
       "\n",
       "[75172 rows x 12 columns]"
      ]
     },
     "execution_count": 194,
     "metadata": {},
     "output_type": "execute_result"
    }
   ],
   "source": [
    "df"
   ]
  },
  {
   "cell_type": "code",
   "execution_count": 191,
   "metadata": {},
   "outputs": [],
   "source": [
    "# Rebalance these portfolios in the first day of the month based on the information on the last day (1-day lag)\n",
    "# For example the day 2014-01-31 and 2014-02-03 now have the same Value_Weight\n",
    "tickers = df[\"Ticker\"].unique()\n",
    "list_of_df_tik = []\n",
    "for tik in tickers:\n",
    "    df_tik = df.loc[df[\"Ticker\"]==tik,:]\n",
    "    df_tik.set_index(\"Date\",inplace=True)\n",
    "    last_day_prev_month = df_tik['Value_Weight'].resample('M').last()\n",
    "    first_day_curr_month = df_tik.groupby([df_tik.index.year, df_tik.index.month]).head(1)\n",
    "    last_day_prev_month_list = last_day_prev_month.to_list()\n",
    "    last_day_prev_month_list.insert(0,first_day_curr_month[\"Value_Weight\"][0])\n",
    "    last_day_prev_month_list.pop(-1)\n",
    "    first_day_curr_month.loc[:,\"Value_Weight\"] = last_day_prev_month_list\n",
    "    mask = df_tik.index.isin(first_day_curr_month.index)\n",
    "    df_tik.loc[mask, 'Value_Weight'] = first_day_curr_month\n",
    "    df_tik.reset_index(inplace=True)\n",
    "    list_of_df_tik.append(df_tik)"
   ]
  },
  {
   "cell_type": "code",
   "execution_count": 199,
   "metadata": {},
   "outputs": [],
   "source": [
    "new_df = pd.concat(list_of_df_tik)\n",
    "new_df = new_df.reset_index()"
   ]
  }
 ],
 "metadata": {
  "kernelspec": {
   "display_name": "env",
   "language": "python",
   "name": "python3"
  },
  "language_info": {
   "codemirror_mode": {
    "name": "ipython",
    "version": 3
   },
   "file_extension": ".py",
   "mimetype": "text/x-python",
   "name": "python",
   "nbconvert_exporter": "python",
   "pygments_lexer": "ipython3",
   "version": "3.8.10"
  }
 },
 "nbformat": 4,
 "nbformat_minor": 2
}

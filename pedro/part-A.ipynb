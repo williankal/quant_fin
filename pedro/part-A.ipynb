{
 "cells": [
  {
   "cell_type": "code",
   "execution_count": 113,
   "metadata": {},
   "outputs": [
    {
     "data": {
      "text/html": [
       "<div>\n",
       "<style scoped>\n",
       "    .dataframe tbody tr th:only-of-type {\n",
       "        vertical-align: middle;\n",
       "    }\n",
       "\n",
       "    .dataframe tbody tr th {\n",
       "        vertical-align: top;\n",
       "    }\n",
       "\n",
       "    .dataframe thead th {\n",
       "        text-align: right;\n",
       "    }\n",
       "</style>\n",
       "<table border=\"1\" class=\"dataframe\">\n",
       "  <thead>\n",
       "    <tr style=\"text-align: right;\">\n",
       "      <th></th>\n",
       "      <th>Date</th>\n",
       "      <th>PX_LAST</th>\n",
       "      <th>PX_OPEN</th>\n",
       "      <th>PX_HIGH</th>\n",
       "      <th>PX_LOW</th>\n",
       "      <th>PX_VOLUME</th>\n",
       "      <th>CUR_MKT_CAP</th>\n",
       "      <th>Ticker</th>\n",
       "      <th>Market_Value</th>\n",
       "    </tr>\n",
       "  </thead>\n",
       "  <tbody>\n",
       "    <tr>\n",
       "      <th>0</th>\n",
       "      <td>2014-01-02</td>\n",
       "      <td>76.27</td>\n",
       "      <td>76.04</td>\n",
       "      <td>76.500</td>\n",
       "      <td>75.90</td>\n",
       "      <td>5212460.0</td>\n",
       "      <td>134027.7199</td>\n",
       "      <td>DIS</td>\n",
       "      <td>1.022229e+07</td>\n",
       "    </tr>\n",
       "    <tr>\n",
       "      <th>1</th>\n",
       "      <td>2014-01-03</td>\n",
       "      <td>76.11</td>\n",
       "      <td>76.30</td>\n",
       "      <td>76.697</td>\n",
       "      <td>76.01</td>\n",
       "      <td>4061042.0</td>\n",
       "      <td>133746.5552</td>\n",
       "      <td>DIS</td>\n",
       "      <td>1.017945e+07</td>\n",
       "    </tr>\n",
       "    <tr>\n",
       "      <th>2</th>\n",
       "      <td>2014-01-06</td>\n",
       "      <td>75.82</td>\n",
       "      <td>76.53</td>\n",
       "      <td>76.840</td>\n",
       "      <td>75.49</td>\n",
       "      <td>6816693.0</td>\n",
       "      <td>133236.9441</td>\n",
       "      <td>DIS</td>\n",
       "      <td>1.010203e+07</td>\n",
       "    </tr>\n",
       "    <tr>\n",
       "      <th>3</th>\n",
       "      <td>2014-01-07</td>\n",
       "      <td>76.34</td>\n",
       "      <td>76.12</td>\n",
       "      <td>76.700</td>\n",
       "      <td>75.90</td>\n",
       "      <td>4511157.0</td>\n",
       "      <td>134150.7295</td>\n",
       "      <td>DIS</td>\n",
       "      <td>1.024107e+07</td>\n",
       "    </tr>\n",
       "    <tr>\n",
       "      <th>4</th>\n",
       "      <td>2014-01-08</td>\n",
       "      <td>75.22</td>\n",
       "      <td>76.13</td>\n",
       "      <td>76.280</td>\n",
       "      <td>74.81</td>\n",
       "      <td>10914858.0</td>\n",
       "      <td>132182.5763</td>\n",
       "      <td>DIS</td>\n",
       "      <td>9.942773e+06</td>\n",
       "    </tr>\n",
       "  </tbody>\n",
       "</table>\n",
       "</div>"
      ],
      "text/plain": [
       "         Date  PX_LAST  PX_OPEN  PX_HIGH  PX_LOW   PX_VOLUME  CUR_MKT_CAP  \\\n",
       "0  2014-01-02    76.27    76.04   76.500   75.90   5212460.0  134027.7199   \n",
       "1  2014-01-03    76.11    76.30   76.697   76.01   4061042.0  133746.5552   \n",
       "2  2014-01-06    75.82    76.53   76.840   75.49   6816693.0  133236.9441   \n",
       "3  2014-01-07    76.34    76.12   76.700   75.90   4511157.0  134150.7295   \n",
       "4  2014-01-08    75.22    76.13   76.280   74.81  10914858.0  132182.5763   \n",
       "\n",
       "  Ticker  Market_Value  \n",
       "0    DIS  1.022229e+07  \n",
       "1    DIS  1.017945e+07  \n",
       "2    DIS  1.010203e+07  \n",
       "3    DIS  1.024107e+07  \n",
       "4    DIS  9.942773e+06  "
      ]
     },
     "execution_count": 113,
     "metadata": {},
     "output_type": "execute_result"
    }
   ],
   "source": [
    "import pandas as pd\n",
    "import plotly.express as px\n",
    "\n",
    "df = pd.read_csv(\"../project1-partA/project1_data.csv\")\n",
    "df.head()"
   ]
  },
  {
   "cell_type": "code",
   "execution_count": 114,
   "metadata": {},
   "outputs": [],
   "source": [
    "n_tickers = len(df[\"Ticker\"].unique())\n",
    "\n",
    "df['Date'] = pd.to_datetime(df['Date'])\n",
    "\n",
    "# Column called total market value that is the total market value per day\n",
    "df[\"Total_Market_Value_Day\"] = df.groupby('Date')['Market_Value'].transform(\"sum\")\n",
    "\n",
    "# Value Weight column\n",
    "df[\"Value_Weight\"] = df[\"Market_Value\"] / df[\"Total_Market_Value_Day\"]\n",
    "\n",
    "# Equal Weight column\n",
    "df[\"Equal_Weight\"] = 1 / n_tickers"
   ]
  },
  {
   "cell_type": "code",
   "execution_count": 115,
   "metadata": {},
   "outputs": [],
   "source": [
    "# Calculating daily return of the stocks\n",
    "df[\"Daily_Return\"] = (df[\"PX_LAST\"] - df[\"PX_OPEN\"]) / df[\"PX_OPEN\"]"
   ]
  },
  {
   "cell_type": "code",
   "execution_count": 117,
   "metadata": {},
   "outputs": [
    {
     "data": {
      "application/vnd.plotly.v1+json": {
       "config": {
        "plotlyServerURL": "https://plot.ly"
       },
       "data": [
        {
         "domain": {
          "x": [
           0,
           1
          ],
          "y": [
           0,
           1
          ]
         },
         "hovertemplate": "Ticker=%{label}<br>Value_Weight=%{value}<extra></extra>",
         "labels": [
          "DIS",
          "UHS",
          "GOOGL",
          "LOW",
          "BSX",
          "EOG",
          "SBAC",
          "STT",
          "DVN",
          "VRTX",
          "BK",
          "ALL",
          "WY",
          "OXY",
          "ON",
          "EXC",
          "UAL",
          "AKAM",
          "SMCI",
          "LYV",
          "AMD",
          "VLO",
          "NI",
          "DRI",
          "SJM",
          "MAS",
          "CMG"
         ],
         "legendgroup": "",
         "name": "",
         "showlegend": true,
         "textinfo": "percent+label",
         "textposition": "inside",
         "type": "pie",
         "values": [
          0.22030174113008613,
          0.0114153380309479,
          0.22645017705771944,
          0.04750342613282383,
          0.00440141161167041,
          0.09024529265659305,
          0.021230841289017446,
          0.03584598962946138,
          0.030702371732992544,
          0.0272761204763474,
          0.022052872924437476,
          0.0246361193721863,
          0.009614152640053292,
          0.1279096983549718,
          0.0007501957025196017,
          0.009835794148796788,
          0.015484861041273308,
          0.012173068834869263,
          0.0003510460007457924,
          0.0019263254133215454,
          0.0001828881871699191,
          0.026957093041758654,
          0.0026509676128405654,
          0.005090192751628192,
          0.01789209442908028,
          0.0031664132229120086,
          0.003953506573775671
         ]
        }
       ],
       "layout": {
        "legend": {
         "tracegroupgap": 0
        },
        "template": {
         "data": {
          "bar": [
           {
            "error_x": {
             "color": "#2a3f5f"
            },
            "error_y": {
             "color": "#2a3f5f"
            },
            "marker": {
             "line": {
              "color": "#E5ECF6",
              "width": 0.5
             },
             "pattern": {
              "fillmode": "overlay",
              "size": 10,
              "solidity": 0.2
             }
            },
            "type": "bar"
           }
          ],
          "barpolar": [
           {
            "marker": {
             "line": {
              "color": "#E5ECF6",
              "width": 0.5
             },
             "pattern": {
              "fillmode": "overlay",
              "size": 10,
              "solidity": 0.2
             }
            },
            "type": "barpolar"
           }
          ],
          "carpet": [
           {
            "aaxis": {
             "endlinecolor": "#2a3f5f",
             "gridcolor": "white",
             "linecolor": "white",
             "minorgridcolor": "white",
             "startlinecolor": "#2a3f5f"
            },
            "baxis": {
             "endlinecolor": "#2a3f5f",
             "gridcolor": "white",
             "linecolor": "white",
             "minorgridcolor": "white",
             "startlinecolor": "#2a3f5f"
            },
            "type": "carpet"
           }
          ],
          "choropleth": [
           {
            "colorbar": {
             "outlinewidth": 0,
             "ticks": ""
            },
            "type": "choropleth"
           }
          ],
          "contour": [
           {
            "colorbar": {
             "outlinewidth": 0,
             "ticks": ""
            },
            "colorscale": [
             [
              0,
              "#0d0887"
             ],
             [
              0.1111111111111111,
              "#46039f"
             ],
             [
              0.2222222222222222,
              "#7201a8"
             ],
             [
              0.3333333333333333,
              "#9c179e"
             ],
             [
              0.4444444444444444,
              "#bd3786"
             ],
             [
              0.5555555555555556,
              "#d8576b"
             ],
             [
              0.6666666666666666,
              "#ed7953"
             ],
             [
              0.7777777777777778,
              "#fb9f3a"
             ],
             [
              0.8888888888888888,
              "#fdca26"
             ],
             [
              1,
              "#f0f921"
             ]
            ],
            "type": "contour"
           }
          ],
          "contourcarpet": [
           {
            "colorbar": {
             "outlinewidth": 0,
             "ticks": ""
            },
            "type": "contourcarpet"
           }
          ],
          "heatmap": [
           {
            "colorbar": {
             "outlinewidth": 0,
             "ticks": ""
            },
            "colorscale": [
             [
              0,
              "#0d0887"
             ],
             [
              0.1111111111111111,
              "#46039f"
             ],
             [
              0.2222222222222222,
              "#7201a8"
             ],
             [
              0.3333333333333333,
              "#9c179e"
             ],
             [
              0.4444444444444444,
              "#bd3786"
             ],
             [
              0.5555555555555556,
              "#d8576b"
             ],
             [
              0.6666666666666666,
              "#ed7953"
             ],
             [
              0.7777777777777778,
              "#fb9f3a"
             ],
             [
              0.8888888888888888,
              "#fdca26"
             ],
             [
              1,
              "#f0f921"
             ]
            ],
            "type": "heatmap"
           }
          ],
          "heatmapgl": [
           {
            "colorbar": {
             "outlinewidth": 0,
             "ticks": ""
            },
            "colorscale": [
             [
              0,
              "#0d0887"
             ],
             [
              0.1111111111111111,
              "#46039f"
             ],
             [
              0.2222222222222222,
              "#7201a8"
             ],
             [
              0.3333333333333333,
              "#9c179e"
             ],
             [
              0.4444444444444444,
              "#bd3786"
             ],
             [
              0.5555555555555556,
              "#d8576b"
             ],
             [
              0.6666666666666666,
              "#ed7953"
             ],
             [
              0.7777777777777778,
              "#fb9f3a"
             ],
             [
              0.8888888888888888,
              "#fdca26"
             ],
             [
              1,
              "#f0f921"
             ]
            ],
            "type": "heatmapgl"
           }
          ],
          "histogram": [
           {
            "marker": {
             "pattern": {
              "fillmode": "overlay",
              "size": 10,
              "solidity": 0.2
             }
            },
            "type": "histogram"
           }
          ],
          "histogram2d": [
           {
            "colorbar": {
             "outlinewidth": 0,
             "ticks": ""
            },
            "colorscale": [
             [
              0,
              "#0d0887"
             ],
             [
              0.1111111111111111,
              "#46039f"
             ],
             [
              0.2222222222222222,
              "#7201a8"
             ],
             [
              0.3333333333333333,
              "#9c179e"
             ],
             [
              0.4444444444444444,
              "#bd3786"
             ],
             [
              0.5555555555555556,
              "#d8576b"
             ],
             [
              0.6666666666666666,
              "#ed7953"
             ],
             [
              0.7777777777777778,
              "#fb9f3a"
             ],
             [
              0.8888888888888888,
              "#fdca26"
             ],
             [
              1,
              "#f0f921"
             ]
            ],
            "type": "histogram2d"
           }
          ],
          "histogram2dcontour": [
           {
            "colorbar": {
             "outlinewidth": 0,
             "ticks": ""
            },
            "colorscale": [
             [
              0,
              "#0d0887"
             ],
             [
              0.1111111111111111,
              "#46039f"
             ],
             [
              0.2222222222222222,
              "#7201a8"
             ],
             [
              0.3333333333333333,
              "#9c179e"
             ],
             [
              0.4444444444444444,
              "#bd3786"
             ],
             [
              0.5555555555555556,
              "#d8576b"
             ],
             [
              0.6666666666666666,
              "#ed7953"
             ],
             [
              0.7777777777777778,
              "#fb9f3a"
             ],
             [
              0.8888888888888888,
              "#fdca26"
             ],
             [
              1,
              "#f0f921"
             ]
            ],
            "type": "histogram2dcontour"
           }
          ],
          "mesh3d": [
           {
            "colorbar": {
             "outlinewidth": 0,
             "ticks": ""
            },
            "type": "mesh3d"
           }
          ],
          "parcoords": [
           {
            "line": {
             "colorbar": {
              "outlinewidth": 0,
              "ticks": ""
             }
            },
            "type": "parcoords"
           }
          ],
          "pie": [
           {
            "automargin": true,
            "type": "pie"
           }
          ],
          "scatter": [
           {
            "fillpattern": {
             "fillmode": "overlay",
             "size": 10,
             "solidity": 0.2
            },
            "type": "scatter"
           }
          ],
          "scatter3d": [
           {
            "line": {
             "colorbar": {
              "outlinewidth": 0,
              "ticks": ""
             }
            },
            "marker": {
             "colorbar": {
              "outlinewidth": 0,
              "ticks": ""
             }
            },
            "type": "scatter3d"
           }
          ],
          "scattercarpet": [
           {
            "marker": {
             "colorbar": {
              "outlinewidth": 0,
              "ticks": ""
             }
            },
            "type": "scattercarpet"
           }
          ],
          "scattergeo": [
           {
            "marker": {
             "colorbar": {
              "outlinewidth": 0,
              "ticks": ""
             }
            },
            "type": "scattergeo"
           }
          ],
          "scattergl": [
           {
            "marker": {
             "colorbar": {
              "outlinewidth": 0,
              "ticks": ""
             }
            },
            "type": "scattergl"
           }
          ],
          "scattermapbox": [
           {
            "marker": {
             "colorbar": {
              "outlinewidth": 0,
              "ticks": ""
             }
            },
            "type": "scattermapbox"
           }
          ],
          "scatterpolar": [
           {
            "marker": {
             "colorbar": {
              "outlinewidth": 0,
              "ticks": ""
             }
            },
            "type": "scatterpolar"
           }
          ],
          "scatterpolargl": [
           {
            "marker": {
             "colorbar": {
              "outlinewidth": 0,
              "ticks": ""
             }
            },
            "type": "scatterpolargl"
           }
          ],
          "scatterternary": [
           {
            "marker": {
             "colorbar": {
              "outlinewidth": 0,
              "ticks": ""
             }
            },
            "type": "scatterternary"
           }
          ],
          "surface": [
           {
            "colorbar": {
             "outlinewidth": 0,
             "ticks": ""
            },
            "colorscale": [
             [
              0,
              "#0d0887"
             ],
             [
              0.1111111111111111,
              "#46039f"
             ],
             [
              0.2222222222222222,
              "#7201a8"
             ],
             [
              0.3333333333333333,
              "#9c179e"
             ],
             [
              0.4444444444444444,
              "#bd3786"
             ],
             [
              0.5555555555555556,
              "#d8576b"
             ],
             [
              0.6666666666666666,
              "#ed7953"
             ],
             [
              0.7777777777777778,
              "#fb9f3a"
             ],
             [
              0.8888888888888888,
              "#fdca26"
             ],
             [
              1,
              "#f0f921"
             ]
            ],
            "type": "surface"
           }
          ],
          "table": [
           {
            "cells": {
             "fill": {
              "color": "#EBF0F8"
             },
             "line": {
              "color": "white"
             }
            },
            "header": {
             "fill": {
              "color": "#C8D4E3"
             },
             "line": {
              "color": "white"
             }
            },
            "type": "table"
           }
          ]
         },
         "layout": {
          "annotationdefaults": {
           "arrowcolor": "#2a3f5f",
           "arrowhead": 0,
           "arrowwidth": 1
          },
          "autotypenumbers": "strict",
          "coloraxis": {
           "colorbar": {
            "outlinewidth": 0,
            "ticks": ""
           }
          },
          "colorscale": {
           "diverging": [
            [
             0,
             "#8e0152"
            ],
            [
             0.1,
             "#c51b7d"
            ],
            [
             0.2,
             "#de77ae"
            ],
            [
             0.3,
             "#f1b6da"
            ],
            [
             0.4,
             "#fde0ef"
            ],
            [
             0.5,
             "#f7f7f7"
            ],
            [
             0.6,
             "#e6f5d0"
            ],
            [
             0.7,
             "#b8e186"
            ],
            [
             0.8,
             "#7fbc41"
            ],
            [
             0.9,
             "#4d9221"
            ],
            [
             1,
             "#276419"
            ]
           ],
           "sequential": [
            [
             0,
             "#0d0887"
            ],
            [
             0.1111111111111111,
             "#46039f"
            ],
            [
             0.2222222222222222,
             "#7201a8"
            ],
            [
             0.3333333333333333,
             "#9c179e"
            ],
            [
             0.4444444444444444,
             "#bd3786"
            ],
            [
             0.5555555555555556,
             "#d8576b"
            ],
            [
             0.6666666666666666,
             "#ed7953"
            ],
            [
             0.7777777777777778,
             "#fb9f3a"
            ],
            [
             0.8888888888888888,
             "#fdca26"
            ],
            [
             1,
             "#f0f921"
            ]
           ],
           "sequentialminus": [
            [
             0,
             "#0d0887"
            ],
            [
             0.1111111111111111,
             "#46039f"
            ],
            [
             0.2222222222222222,
             "#7201a8"
            ],
            [
             0.3333333333333333,
             "#9c179e"
            ],
            [
             0.4444444444444444,
             "#bd3786"
            ],
            [
             0.5555555555555556,
             "#d8576b"
            ],
            [
             0.6666666666666666,
             "#ed7953"
            ],
            [
             0.7777777777777778,
             "#fb9f3a"
            ],
            [
             0.8888888888888888,
             "#fdca26"
            ],
            [
             1,
             "#f0f921"
            ]
           ]
          },
          "colorway": [
           "#636efa",
           "#EF553B",
           "#00cc96",
           "#ab63fa",
           "#FFA15A",
           "#19d3f3",
           "#FF6692",
           "#B6E880",
           "#FF97FF",
           "#FECB52"
          ],
          "font": {
           "color": "#2a3f5f"
          },
          "geo": {
           "bgcolor": "white",
           "lakecolor": "white",
           "landcolor": "#E5ECF6",
           "showlakes": true,
           "showland": true,
           "subunitcolor": "white"
          },
          "hoverlabel": {
           "align": "left"
          },
          "hovermode": "closest",
          "mapbox": {
           "style": "light"
          },
          "paper_bgcolor": "white",
          "plot_bgcolor": "#E5ECF6",
          "polar": {
           "angularaxis": {
            "gridcolor": "white",
            "linecolor": "white",
            "ticks": ""
           },
           "bgcolor": "#E5ECF6",
           "radialaxis": {
            "gridcolor": "white",
            "linecolor": "white",
            "ticks": ""
           }
          },
          "scene": {
           "xaxis": {
            "backgroundcolor": "#E5ECF6",
            "gridcolor": "white",
            "gridwidth": 2,
            "linecolor": "white",
            "showbackground": true,
            "ticks": "",
            "zerolinecolor": "white"
           },
           "yaxis": {
            "backgroundcolor": "#E5ECF6",
            "gridcolor": "white",
            "gridwidth": 2,
            "linecolor": "white",
            "showbackground": true,
            "ticks": "",
            "zerolinecolor": "white"
           },
           "zaxis": {
            "backgroundcolor": "#E5ECF6",
            "gridcolor": "white",
            "gridwidth": 2,
            "linecolor": "white",
            "showbackground": true,
            "ticks": "",
            "zerolinecolor": "white"
           }
          },
          "shapedefaults": {
           "line": {
            "color": "#2a3f5f"
           }
          },
          "ternary": {
           "aaxis": {
            "gridcolor": "white",
            "linecolor": "white",
            "ticks": ""
           },
           "baxis": {
            "gridcolor": "white",
            "linecolor": "white",
            "ticks": ""
           },
           "bgcolor": "#E5ECF6",
           "caxis": {
            "gridcolor": "white",
            "linecolor": "white",
            "ticks": ""
           }
          },
          "title": {
           "x": 0.05
          },
          "xaxis": {
           "automargin": true,
           "gridcolor": "white",
           "linecolor": "white",
           "ticks": "",
           "title": {
            "standoff": 15
           },
           "zerolinecolor": "white",
           "zerolinewidth": 2
          },
          "yaxis": {
           "automargin": true,
           "gridcolor": "white",
           "linecolor": "white",
           "ticks": "",
           "title": {
            "standoff": 15
           },
           "zerolinecolor": "white",
           "zerolinewidth": 2
          }
         }
        },
        "title": {
         "text": "Value-Weighted of portfolio in 2014-03-06"
        },
        "width": 600
       }
      }
     },
     "metadata": {},
     "output_type": "display_data"
    }
   ],
   "source": [
    "import time\n",
    "from datetime import datetime\n",
    "specific_date = \"2014-03-06\"\n",
    "\n",
    "def pie_chart_for_specific_date(df,date):\n",
    "    df_for_pie = df[df[\"Date\"]==date]\n",
    "    fig = px.pie(df_for_pie, values='Value_Weight', names='Ticker', title=f'Value-Weighted of portfolio in {date}',width=600)\n",
    "    fig.update_traces(textposition='inside', textinfo='percent+label')\n",
    "    fig.show()\n",
    "    \n",
    "pie_chart_for_specific_date(df,specific_date)"
   ]
  },
  {
   "cell_type": "code",
   "execution_count": 118,
   "metadata": {},
   "outputs": [
    {
     "data": {
      "text/html": [
       "<div>\n",
       "<style scoped>\n",
       "    .dataframe tbody tr th:only-of-type {\n",
       "        vertical-align: middle;\n",
       "    }\n",
       "\n",
       "    .dataframe tbody tr th {\n",
       "        vertical-align: top;\n",
       "    }\n",
       "\n",
       "    .dataframe thead th {\n",
       "        text-align: right;\n",
       "    }\n",
       "</style>\n",
       "<table border=\"1\" class=\"dataframe\">\n",
       "  <thead>\n",
       "    <tr style=\"text-align: right;\">\n",
       "      <th></th>\n",
       "      <th>Date</th>\n",
       "      <th>PX_LAST</th>\n",
       "      <th>PX_OPEN</th>\n",
       "      <th>PX_HIGH</th>\n",
       "      <th>PX_LOW</th>\n",
       "      <th>PX_VOLUME</th>\n",
       "      <th>CUR_MKT_CAP</th>\n",
       "      <th>Ticker</th>\n",
       "      <th>Market_Value</th>\n",
       "      <th>Total_Market_Value_Day</th>\n",
       "      <th>Value_Weight</th>\n",
       "      <th>Equal_Weight</th>\n",
       "      <th>Daily_Return</th>\n",
       "    </tr>\n",
       "  </thead>\n",
       "  <tbody>\n",
       "    <tr>\n",
       "      <th>0</th>\n",
       "      <td>2014-01-02</td>\n",
       "      <td>76.27</td>\n",
       "      <td>76.04</td>\n",
       "      <td>76.500</td>\n",
       "      <td>75.900</td>\n",
       "      <td>5212460.0</td>\n",
       "      <td>134027.7199</td>\n",
       "      <td>DIS</td>\n",
       "      <td>1.022229e+07</td>\n",
       "      <td>4.859792e+07</td>\n",
       "      <td>0.210344</td>\n",
       "      <td>0.033333</td>\n",
       "      <td>0.003025</td>\n",
       "    </tr>\n",
       "    <tr>\n",
       "      <th>1</th>\n",
       "      <td>2014-01-03</td>\n",
       "      <td>76.11</td>\n",
       "      <td>76.30</td>\n",
       "      <td>76.697</td>\n",
       "      <td>76.010</td>\n",
       "      <td>4061042.0</td>\n",
       "      <td>133746.5552</td>\n",
       "      <td>DIS</td>\n",
       "      <td>1.017945e+07</td>\n",
       "      <td>4.840901e+07</td>\n",
       "      <td>0.210280</td>\n",
       "      <td>0.033333</td>\n",
       "      <td>-0.002490</td>\n",
       "    </tr>\n",
       "    <tr>\n",
       "      <th>2</th>\n",
       "      <td>2014-01-06</td>\n",
       "      <td>75.82</td>\n",
       "      <td>76.53</td>\n",
       "      <td>76.840</td>\n",
       "      <td>75.490</td>\n",
       "      <td>6816693.0</td>\n",
       "      <td>133236.9441</td>\n",
       "      <td>DIS</td>\n",
       "      <td>1.010203e+07</td>\n",
       "      <td>4.849603e+07</td>\n",
       "      <td>0.208306</td>\n",
       "      <td>0.033333</td>\n",
       "      <td>-0.009277</td>\n",
       "    </tr>\n",
       "    <tr>\n",
       "      <th>3</th>\n",
       "      <td>2014-01-07</td>\n",
       "      <td>76.34</td>\n",
       "      <td>76.12</td>\n",
       "      <td>76.700</td>\n",
       "      <td>75.900</td>\n",
       "      <td>4511157.0</td>\n",
       "      <td>134150.7295</td>\n",
       "      <td>DIS</td>\n",
       "      <td>1.024107e+07</td>\n",
       "      <td>4.965378e+07</td>\n",
       "      <td>0.206249</td>\n",
       "      <td>0.033333</td>\n",
       "      <td>0.002890</td>\n",
       "    </tr>\n",
       "    <tr>\n",
       "      <th>4</th>\n",
       "      <td>2014-01-08</td>\n",
       "      <td>75.22</td>\n",
       "      <td>76.13</td>\n",
       "      <td>76.280</td>\n",
       "      <td>74.810</td>\n",
       "      <td>10914858.0</td>\n",
       "      <td>132182.5763</td>\n",
       "      <td>DIS</td>\n",
       "      <td>9.942773e+06</td>\n",
       "      <td>4.934948e+07</td>\n",
       "      <td>0.201477</td>\n",
       "      <td>0.033333</td>\n",
       "      <td>-0.011953</td>\n",
       "    </tr>\n",
       "    <tr>\n",
       "      <th>...</th>\n",
       "      <td>...</td>\n",
       "      <td>...</td>\n",
       "      <td>...</td>\n",
       "      <td>...</td>\n",
       "      <td>...</td>\n",
       "      <td>...</td>\n",
       "      <td>...</td>\n",
       "      <td>...</td>\n",
       "      <td>...</td>\n",
       "      <td>...</td>\n",
       "      <td>...</td>\n",
       "      <td>...</td>\n",
       "      <td>...</td>\n",
       "    </tr>\n",
       "    <tr>\n",
       "      <th>75167</th>\n",
       "      <td>2024-08-06</td>\n",
       "      <td>54.08</td>\n",
       "      <td>52.93</td>\n",
       "      <td>55.110</td>\n",
       "      <td>52.659</td>\n",
       "      <td>16405667.0</td>\n",
       "      <td>74061.2621</td>\n",
       "      <td>CMG</td>\n",
       "      <td>4.005233e+06</td>\n",
       "      <td>5.450343e+08</td>\n",
       "      <td>0.007349</td>\n",
       "      <td>0.033333</td>\n",
       "      <td>0.021727</td>\n",
       "    </tr>\n",
       "    <tr>\n",
       "      <th>75168</th>\n",
       "      <td>2024-08-07</td>\n",
       "      <td>53.63</td>\n",
       "      <td>54.50</td>\n",
       "      <td>55.300</td>\n",
       "      <td>53.410</td>\n",
       "      <td>11238844.0</td>\n",
       "      <td>73444.9979</td>\n",
       "      <td>CMG</td>\n",
       "      <td>3.938855e+06</td>\n",
       "      <td>5.320586e+08</td>\n",
       "      <td>0.007403</td>\n",
       "      <td>0.033333</td>\n",
       "      <td>-0.015963</td>\n",
       "    </tr>\n",
       "    <tr>\n",
       "      <th>75169</th>\n",
       "      <td>2024-08-08</td>\n",
       "      <td>54.32</td>\n",
       "      <td>54.00</td>\n",
       "      <td>54.890</td>\n",
       "      <td>53.740</td>\n",
       "      <td>9305774.0</td>\n",
       "      <td>74389.9363</td>\n",
       "      <td>CMG</td>\n",
       "      <td>4.040861e+06</td>\n",
       "      <td>5.535762e+08</td>\n",
       "      <td>0.007300</td>\n",
       "      <td>0.033333</td>\n",
       "      <td>0.005926</td>\n",
       "    </tr>\n",
       "    <tr>\n",
       "      <th>75170</th>\n",
       "      <td>2024-08-09</td>\n",
       "      <td>55.55</td>\n",
       "      <td>54.90</td>\n",
       "      <td>56.140</td>\n",
       "      <td>54.530</td>\n",
       "      <td>11569747.0</td>\n",
       "      <td>76074.3918</td>\n",
       "      <td>CMG</td>\n",
       "      <td>4.225932e+06</td>\n",
       "      <td>5.601571e+08</td>\n",
       "      <td>0.007544</td>\n",
       "      <td>0.033333</td>\n",
       "      <td>0.011840</td>\n",
       "    </tr>\n",
       "    <tr>\n",
       "      <th>75171</th>\n",
       "      <td>2024-08-12</td>\n",
       "      <td>56.15</td>\n",
       "      <td>55.60</td>\n",
       "      <td>56.340</td>\n",
       "      <td>55.080</td>\n",
       "      <td>4246557.0</td>\n",
       "      <td>76896.0795</td>\n",
       "      <td>CMG</td>\n",
       "      <td>4.317715e+06</td>\n",
       "      <td>5.597712e+08</td>\n",
       "      <td>0.007713</td>\n",
       "      <td>0.033333</td>\n",
       "      <td>0.009892</td>\n",
       "    </tr>\n",
       "  </tbody>\n",
       "</table>\n",
       "<p>75172 rows × 13 columns</p>\n",
       "</div>"
      ],
      "text/plain": [
       "            Date  PX_LAST  PX_OPEN  PX_HIGH  PX_LOW   PX_VOLUME  CUR_MKT_CAP  \\\n",
       "0     2014-01-02    76.27    76.04   76.500  75.900   5212460.0  134027.7199   \n",
       "1     2014-01-03    76.11    76.30   76.697  76.010   4061042.0  133746.5552   \n",
       "2     2014-01-06    75.82    76.53   76.840  75.490   6816693.0  133236.9441   \n",
       "3     2014-01-07    76.34    76.12   76.700  75.900   4511157.0  134150.7295   \n",
       "4     2014-01-08    75.22    76.13   76.280  74.810  10914858.0  132182.5763   \n",
       "...          ...      ...      ...      ...     ...         ...          ...   \n",
       "75167 2024-08-06    54.08    52.93   55.110  52.659  16405667.0   74061.2621   \n",
       "75168 2024-08-07    53.63    54.50   55.300  53.410  11238844.0   73444.9979   \n",
       "75169 2024-08-08    54.32    54.00   54.890  53.740   9305774.0   74389.9363   \n",
       "75170 2024-08-09    55.55    54.90   56.140  54.530  11569747.0   76074.3918   \n",
       "75171 2024-08-12    56.15    55.60   56.340  55.080   4246557.0   76896.0795   \n",
       "\n",
       "      Ticker  Market_Value  Total_Market_Value_Day  Value_Weight  \\\n",
       "0        DIS  1.022229e+07            4.859792e+07      0.210344   \n",
       "1        DIS  1.017945e+07            4.840901e+07      0.210280   \n",
       "2        DIS  1.010203e+07            4.849603e+07      0.208306   \n",
       "3        DIS  1.024107e+07            4.965378e+07      0.206249   \n",
       "4        DIS  9.942773e+06            4.934948e+07      0.201477   \n",
       "...      ...           ...                     ...           ...   \n",
       "75167    CMG  4.005233e+06            5.450343e+08      0.007349   \n",
       "75168    CMG  3.938855e+06            5.320586e+08      0.007403   \n",
       "75169    CMG  4.040861e+06            5.535762e+08      0.007300   \n",
       "75170    CMG  4.225932e+06            5.601571e+08      0.007544   \n",
       "75171    CMG  4.317715e+06            5.597712e+08      0.007713   \n",
       "\n",
       "       Equal_Weight  Daily_Return  \n",
       "0          0.033333      0.003025  \n",
       "1          0.033333     -0.002490  \n",
       "2          0.033333     -0.009277  \n",
       "3          0.033333      0.002890  \n",
       "4          0.033333     -0.011953  \n",
       "...             ...           ...  \n",
       "75167      0.033333      0.021727  \n",
       "75168      0.033333     -0.015963  \n",
       "75169      0.033333      0.005926  \n",
       "75170      0.033333      0.011840  \n",
       "75171      0.033333      0.009892  \n",
       "\n",
       "[75172 rows x 13 columns]"
      ]
     },
     "execution_count": 118,
     "metadata": {},
     "output_type": "execute_result"
    }
   ],
   "source": [
    "df"
   ]
  },
  {
   "cell_type": "code",
   "execution_count": 119,
   "metadata": {},
   "outputs": [],
   "source": [
    "# Rebalance these portfolios in the first day of the month based on the information on the last day (1-day lag)\n",
    "# For example the day 2014-01-31 and 2014-02-03 now have the same Value_Weight\n",
    "tickers = df[\"Ticker\"].unique()\n",
    "list_of_df_tik = []\n",
    "for tik in tickers:\n",
    "    df_tik = df.loc[df[\"Ticker\"]==tik,:]\n",
    "    df_tik.set_index(\"Date\",inplace=True)\n",
    "    last_day_prev_month = df_tik['Value_Weight'].resample('M').last()\n",
    "    first_day_curr_month = df_tik.groupby([df_tik.index.year, df_tik.index.month]).head(1)\n",
    "    last_day_prev_month_list = last_day_prev_month.to_list()\n",
    "    last_day_prev_month_list.insert(0,first_day_curr_month[\"Value_Weight\"][0])\n",
    "    last_day_prev_month_list.pop(-1)\n",
    "    first_day_curr_month.loc[:,\"Value_Weight\"] = last_day_prev_month_list\n",
    "    mask = df_tik.index.isin(first_day_curr_month.index)\n",
    "    df_tik.loc[mask, 'Value_Weight'] = first_day_curr_month\n",
    "    df_tik.reset_index(inplace=True)\n",
    "    list_of_df_tik.append(df_tik)"
   ]
  },
  {
   "cell_type": "code",
   "execution_count": 120,
   "metadata": {},
   "outputs": [
    {
     "data": {
      "text/html": [
       "<div>\n",
       "<style scoped>\n",
       "    .dataframe tbody tr th:only-of-type {\n",
       "        vertical-align: middle;\n",
       "    }\n",
       "\n",
       "    .dataframe tbody tr th {\n",
       "        vertical-align: top;\n",
       "    }\n",
       "\n",
       "    .dataframe thead th {\n",
       "        text-align: right;\n",
       "    }\n",
       "</style>\n",
       "<table border=\"1\" class=\"dataframe\">\n",
       "  <thead>\n",
       "    <tr style=\"text-align: right;\">\n",
       "      <th></th>\n",
       "      <th>Date</th>\n",
       "      <th>PX_LAST</th>\n",
       "      <th>PX_OPEN</th>\n",
       "      <th>PX_HIGH</th>\n",
       "      <th>PX_LOW</th>\n",
       "      <th>PX_VOLUME</th>\n",
       "      <th>CUR_MKT_CAP</th>\n",
       "      <th>Ticker</th>\n",
       "      <th>Market_Value</th>\n",
       "      <th>Total_Market_Value_Day</th>\n",
       "      <th>Value_Weight</th>\n",
       "      <th>Equal_Weight</th>\n",
       "      <th>Daily_Return</th>\n",
       "    </tr>\n",
       "  </thead>\n",
       "  <tbody>\n",
       "    <tr>\n",
       "      <th>0</th>\n",
       "      <td>2014-01-02</td>\n",
       "      <td>76.27</td>\n",
       "      <td>76.04</td>\n",
       "      <td>76.500</td>\n",
       "      <td>75.900</td>\n",
       "      <td>5212460.0</td>\n",
       "      <td>134027.7199</td>\n",
       "      <td>DIS</td>\n",
       "      <td>1.022229e+07</td>\n",
       "      <td>4.859792e+07</td>\n",
       "      <td>0.210344</td>\n",
       "      <td>0.033333</td>\n",
       "      <td>0.003025</td>\n",
       "    </tr>\n",
       "    <tr>\n",
       "      <th>1</th>\n",
       "      <td>2014-01-03</td>\n",
       "      <td>76.11</td>\n",
       "      <td>76.30</td>\n",
       "      <td>76.697</td>\n",
       "      <td>76.010</td>\n",
       "      <td>4061042.0</td>\n",
       "      <td>133746.5552</td>\n",
       "      <td>DIS</td>\n",
       "      <td>1.017945e+07</td>\n",
       "      <td>4.840901e+07</td>\n",
       "      <td>0.210280</td>\n",
       "      <td>0.033333</td>\n",
       "      <td>-0.002490</td>\n",
       "    </tr>\n",
       "    <tr>\n",
       "      <th>2</th>\n",
       "      <td>2014-01-06</td>\n",
       "      <td>75.82</td>\n",
       "      <td>76.53</td>\n",
       "      <td>76.840</td>\n",
       "      <td>75.490</td>\n",
       "      <td>6816693.0</td>\n",
       "      <td>133236.9441</td>\n",
       "      <td>DIS</td>\n",
       "      <td>1.010203e+07</td>\n",
       "      <td>4.849603e+07</td>\n",
       "      <td>0.208306</td>\n",
       "      <td>0.033333</td>\n",
       "      <td>-0.009277</td>\n",
       "    </tr>\n",
       "    <tr>\n",
       "      <th>3</th>\n",
       "      <td>2014-01-07</td>\n",
       "      <td>76.34</td>\n",
       "      <td>76.12</td>\n",
       "      <td>76.700</td>\n",
       "      <td>75.900</td>\n",
       "      <td>4511157.0</td>\n",
       "      <td>134150.7295</td>\n",
       "      <td>DIS</td>\n",
       "      <td>1.024107e+07</td>\n",
       "      <td>4.965378e+07</td>\n",
       "      <td>0.206249</td>\n",
       "      <td>0.033333</td>\n",
       "      <td>0.002890</td>\n",
       "    </tr>\n",
       "    <tr>\n",
       "      <th>4</th>\n",
       "      <td>2014-01-08</td>\n",
       "      <td>75.22</td>\n",
       "      <td>76.13</td>\n",
       "      <td>76.280</td>\n",
       "      <td>74.810</td>\n",
       "      <td>10914858.0</td>\n",
       "      <td>132182.5763</td>\n",
       "      <td>DIS</td>\n",
       "      <td>9.942773e+06</td>\n",
       "      <td>4.934948e+07</td>\n",
       "      <td>0.201477</td>\n",
       "      <td>0.033333</td>\n",
       "      <td>-0.011953</td>\n",
       "    </tr>\n",
       "    <tr>\n",
       "      <th>...</th>\n",
       "      <td>...</td>\n",
       "      <td>...</td>\n",
       "      <td>...</td>\n",
       "      <td>...</td>\n",
       "      <td>...</td>\n",
       "      <td>...</td>\n",
       "      <td>...</td>\n",
       "      <td>...</td>\n",
       "      <td>...</td>\n",
       "      <td>...</td>\n",
       "      <td>...</td>\n",
       "      <td>...</td>\n",
       "      <td>...</td>\n",
       "    </tr>\n",
       "    <tr>\n",
       "      <th>2665</th>\n",
       "      <td>2024-08-06</td>\n",
       "      <td>54.08</td>\n",
       "      <td>52.93</td>\n",
       "      <td>55.110</td>\n",
       "      <td>52.659</td>\n",
       "      <td>16405667.0</td>\n",
       "      <td>74061.2621</td>\n",
       "      <td>CMG</td>\n",
       "      <td>4.005233e+06</td>\n",
       "      <td>5.450343e+08</td>\n",
       "      <td>0.007349</td>\n",
       "      <td>0.033333</td>\n",
       "      <td>0.021727</td>\n",
       "    </tr>\n",
       "    <tr>\n",
       "      <th>2666</th>\n",
       "      <td>2024-08-07</td>\n",
       "      <td>53.63</td>\n",
       "      <td>54.50</td>\n",
       "      <td>55.300</td>\n",
       "      <td>53.410</td>\n",
       "      <td>11238844.0</td>\n",
       "      <td>73444.9979</td>\n",
       "      <td>CMG</td>\n",
       "      <td>3.938855e+06</td>\n",
       "      <td>5.320586e+08</td>\n",
       "      <td>0.007403</td>\n",
       "      <td>0.033333</td>\n",
       "      <td>-0.015963</td>\n",
       "    </tr>\n",
       "    <tr>\n",
       "      <th>2667</th>\n",
       "      <td>2024-08-08</td>\n",
       "      <td>54.32</td>\n",
       "      <td>54.00</td>\n",
       "      <td>54.890</td>\n",
       "      <td>53.740</td>\n",
       "      <td>9305774.0</td>\n",
       "      <td>74389.9363</td>\n",
       "      <td>CMG</td>\n",
       "      <td>4.040861e+06</td>\n",
       "      <td>5.535762e+08</td>\n",
       "      <td>0.007300</td>\n",
       "      <td>0.033333</td>\n",
       "      <td>0.005926</td>\n",
       "    </tr>\n",
       "    <tr>\n",
       "      <th>2668</th>\n",
       "      <td>2024-08-09</td>\n",
       "      <td>55.55</td>\n",
       "      <td>54.90</td>\n",
       "      <td>56.140</td>\n",
       "      <td>54.530</td>\n",
       "      <td>11569747.0</td>\n",
       "      <td>76074.3918</td>\n",
       "      <td>CMG</td>\n",
       "      <td>4.225932e+06</td>\n",
       "      <td>5.601571e+08</td>\n",
       "      <td>0.007544</td>\n",
       "      <td>0.033333</td>\n",
       "      <td>0.011840</td>\n",
       "    </tr>\n",
       "    <tr>\n",
       "      <th>2669</th>\n",
       "      <td>2024-08-12</td>\n",
       "      <td>56.15</td>\n",
       "      <td>55.60</td>\n",
       "      <td>56.340</td>\n",
       "      <td>55.080</td>\n",
       "      <td>4246557.0</td>\n",
       "      <td>76896.0795</td>\n",
       "      <td>CMG</td>\n",
       "      <td>4.317715e+06</td>\n",
       "      <td>5.597712e+08</td>\n",
       "      <td>0.007713</td>\n",
       "      <td>0.033333</td>\n",
       "      <td>0.009892</td>\n",
       "    </tr>\n",
       "  </tbody>\n",
       "</table>\n",
       "<p>75172 rows × 13 columns</p>\n",
       "</div>"
      ],
      "text/plain": [
       "           Date  PX_LAST  PX_OPEN  PX_HIGH  PX_LOW   PX_VOLUME  CUR_MKT_CAP  \\\n",
       "0    2014-01-02    76.27    76.04   76.500  75.900   5212460.0  134027.7199   \n",
       "1    2014-01-03    76.11    76.30   76.697  76.010   4061042.0  133746.5552   \n",
       "2    2014-01-06    75.82    76.53   76.840  75.490   6816693.0  133236.9441   \n",
       "3    2014-01-07    76.34    76.12   76.700  75.900   4511157.0  134150.7295   \n",
       "4    2014-01-08    75.22    76.13   76.280  74.810  10914858.0  132182.5763   \n",
       "...         ...      ...      ...      ...     ...         ...          ...   \n",
       "2665 2024-08-06    54.08    52.93   55.110  52.659  16405667.0   74061.2621   \n",
       "2666 2024-08-07    53.63    54.50   55.300  53.410  11238844.0   73444.9979   \n",
       "2667 2024-08-08    54.32    54.00   54.890  53.740   9305774.0   74389.9363   \n",
       "2668 2024-08-09    55.55    54.90   56.140  54.530  11569747.0   76074.3918   \n",
       "2669 2024-08-12    56.15    55.60   56.340  55.080   4246557.0   76896.0795   \n",
       "\n",
       "     Ticker  Market_Value  Total_Market_Value_Day  Value_Weight  Equal_Weight  \\\n",
       "0       DIS  1.022229e+07            4.859792e+07      0.210344      0.033333   \n",
       "1       DIS  1.017945e+07            4.840901e+07      0.210280      0.033333   \n",
       "2       DIS  1.010203e+07            4.849603e+07      0.208306      0.033333   \n",
       "3       DIS  1.024107e+07            4.965378e+07      0.206249      0.033333   \n",
       "4       DIS  9.942773e+06            4.934948e+07      0.201477      0.033333   \n",
       "...     ...           ...                     ...           ...           ...   \n",
       "2665    CMG  4.005233e+06            5.450343e+08      0.007349      0.033333   \n",
       "2666    CMG  3.938855e+06            5.320586e+08      0.007403      0.033333   \n",
       "2667    CMG  4.040861e+06            5.535762e+08      0.007300      0.033333   \n",
       "2668    CMG  4.225932e+06            5.601571e+08      0.007544      0.033333   \n",
       "2669    CMG  4.317715e+06            5.597712e+08      0.007713      0.033333   \n",
       "\n",
       "      Daily_Return  \n",
       "0         0.003025  \n",
       "1        -0.002490  \n",
       "2        -0.009277  \n",
       "3         0.002890  \n",
       "4        -0.011953  \n",
       "...            ...  \n",
       "2665      0.021727  \n",
       "2666     -0.015963  \n",
       "2667      0.005926  \n",
       "2668      0.011840  \n",
       "2669      0.009892  \n",
       "\n",
       "[75172 rows x 13 columns]"
      ]
     },
     "execution_count": 120,
     "metadata": {},
     "output_type": "execute_result"
    }
   ],
   "source": [
    "new_df = pd.concat(list_of_df_tik)\n",
    "new_df"
   ]
  },
  {
   "cell_type": "code",
   "execution_count": 121,
   "metadata": {},
   "outputs": [],
   "source": [
    "new_df[\"Value_Weight*Daily_Return\"] = new_df[\"Value_Weight\"]*new_df[\"Daily_Return\"]\n",
    "new_df[\"Equal_Weight*Daily_Return\"] = new_df[\"Equal_Weight\"]*new_df[\"Daily_Return\"]"
   ]
  },
  {
   "cell_type": "code",
   "execution_count": 122,
   "metadata": {},
   "outputs": [
    {
     "data": {
      "text/html": [
       "<div>\n",
       "<style scoped>\n",
       "    .dataframe tbody tr th:only-of-type {\n",
       "        vertical-align: middle;\n",
       "    }\n",
       "\n",
       "    .dataframe tbody tr th {\n",
       "        vertical-align: top;\n",
       "    }\n",
       "\n",
       "    .dataframe thead th {\n",
       "        text-align: right;\n",
       "    }\n",
       "</style>\n",
       "<table border=\"1\" class=\"dataframe\">\n",
       "  <thead>\n",
       "    <tr style=\"text-align: right;\">\n",
       "      <th></th>\n",
       "      <th>Date</th>\n",
       "      <th>Daily_Return_with_Value_Weighted_Portfolio</th>\n",
       "      <th>Daily_Return_with_Equal_Weighted_Portfolio</th>\n",
       "    </tr>\n",
       "  </thead>\n",
       "  <tbody>\n",
       "    <tr>\n",
       "      <th>0</th>\n",
       "      <td>2014-01-02</td>\n",
       "      <td>-0.003324</td>\n",
       "      <td>-0.004958</td>\n",
       "    </tr>\n",
       "    <tr>\n",
       "      <th>1</th>\n",
       "      <td>2014-01-03</td>\n",
       "      <td>-0.003096</td>\n",
       "      <td>0.002189</td>\n",
       "    </tr>\n",
       "    <tr>\n",
       "      <th>2</th>\n",
       "      <td>2014-01-06</td>\n",
       "      <td>-0.003736</td>\n",
       "      <td>-0.003695</td>\n",
       "    </tr>\n",
       "    <tr>\n",
       "      <th>3</th>\n",
       "      <td>2014-01-07</td>\n",
       "      <td>0.006103</td>\n",
       "      <td>0.003307</td>\n",
       "    </tr>\n",
       "    <tr>\n",
       "      <th>4</th>\n",
       "      <td>2014-01-08</td>\n",
       "      <td>-0.002151</td>\n",
       "      <td>0.003586</td>\n",
       "    </tr>\n",
       "    <tr>\n",
       "      <th>...</th>\n",
       "      <td>...</td>\n",
       "      <td>...</td>\n",
       "      <td>...</td>\n",
       "    </tr>\n",
       "    <tr>\n",
       "      <th>2665</th>\n",
       "      <td>2024-08-06</td>\n",
       "      <td>-0.002248</td>\n",
       "      <td>0.005482</td>\n",
       "    </tr>\n",
       "    <tr>\n",
       "      <th>2666</th>\n",
       "      <td>2024-08-07</td>\n",
       "      <td>-0.020181</td>\n",
       "      <td>-0.019729</td>\n",
       "    </tr>\n",
       "    <tr>\n",
       "      <th>2667</th>\n",
       "      <td>2024-08-08</td>\n",
       "      <td>0.011787</td>\n",
       "      <td>0.015819</td>\n",
       "    </tr>\n",
       "    <tr>\n",
       "      <th>2668</th>\n",
       "      <td>2024-08-09</td>\n",
       "      <td>0.014371</td>\n",
       "      <td>0.002092</td>\n",
       "    </tr>\n",
       "    <tr>\n",
       "      <th>2669</th>\n",
       "      <td>2024-08-12</td>\n",
       "      <td>-0.002436</td>\n",
       "      <td>0.000487</td>\n",
       "    </tr>\n",
       "  </tbody>\n",
       "</table>\n",
       "<p>2670 rows × 3 columns</p>\n",
       "</div>"
      ],
      "text/plain": [
       "           Date  Daily_Return_with_Value_Weighted_Portfolio  \\\n",
       "0    2014-01-02                                   -0.003324   \n",
       "1    2014-01-03                                   -0.003096   \n",
       "2    2014-01-06                                   -0.003736   \n",
       "3    2014-01-07                                    0.006103   \n",
       "4    2014-01-08                                   -0.002151   \n",
       "...         ...                                         ...   \n",
       "2665 2024-08-06                                   -0.002248   \n",
       "2666 2024-08-07                                   -0.020181   \n",
       "2667 2024-08-08                                    0.011787   \n",
       "2668 2024-08-09                                    0.014371   \n",
       "2669 2024-08-12                                   -0.002436   \n",
       "\n",
       "      Daily_Return_with_Equal_Weighted_Portfolio  \n",
       "0                                      -0.004958  \n",
       "1                                       0.002189  \n",
       "2                                      -0.003695  \n",
       "3                                       0.003307  \n",
       "4                                       0.003586  \n",
       "...                                          ...  \n",
       "2665                                    0.005482  \n",
       "2666                                   -0.019729  \n",
       "2667                                    0.015819  \n",
       "2668                                    0.002092  \n",
       "2669                                    0.000487  \n",
       "\n",
       "[2670 rows x 3 columns]"
      ]
     },
     "execution_count": 122,
     "metadata": {},
     "output_type": "execute_result"
    }
   ],
   "source": [
    "value_weighted_return = new_df.groupby(\"Date\")[\"Value_Weight*Daily_Return\"].sum()\n",
    "\n",
    "equal_weighted_return = new_df.groupby(\"Date\")[\"Equal_Weight*Daily_Return\"].sum()\n",
    "\n",
    "portfolios = pd.DataFrame({\n",
    "    \"Daily_Return_with_Value_Weighted_Portfolio\": value_weighted_return,\n",
    "    \"Daily_Return_with_Equal_Weighted_Portfolio\": equal_weighted_return\n",
    "})\n",
    "\n",
    "portfolios.reset_index(inplace=True)\n",
    "portfolios"
   ]
  },
  {
   "cell_type": "code",
   "execution_count": 123,
   "metadata": {},
   "outputs": [
    {
     "data": {
      "image/png": "[encoded data removed]",
      "text/plain": [
       "<Figure size 1200x600 with 1 Axes>"
      ]
     },
     "metadata": {},
     "output_type": "display_data"
    }
   ],
   "source": [
    "import matplotlib.pyplot as plt\n",
    "\n",
    "# Define the date range (adjust the dates to your specific needs)\n",
    "start_date = \"2024-01-04\"\n",
    "end_date = \"2024-12-31\"\n",
    "\n",
    "filtered_df = portfolios[(portfolios[\"Date\"] >= start_date) & (portfolios[\"Date\"] <= end_date)]\n",
    "\n",
    "plt.figure(figsize=(12, 6))\n",
    "plt.plot(filtered_df.index, filtered_df[\"Daily_Return_with_Value_Weighted_Portfolio\"], label=\"Value Weighted Return\")\n",
    "plt.plot(filtered_df.index, filtered_df[\"Daily_Return_with_Equal_Weighted_Portfolio\"], label=\"Equal Weighted Return\")\n",
    "\n",
    "plt.title(f\"Value Weighted vs Equal Weighted Returns ({start_date} to {end_date})\")\n",
    "plt.xlabel(\"Date\")\n",
    "plt.ylabel(\"Return\")\n",
    "plt.legend()\n",
    "\n",
    "plt.show()"
   ]
  },
  {
   "cell_type": "code",
   "execution_count": 124,
   "metadata": {},
   "outputs": [
    {
     "data": {
      "text/html": [
       "<div>\n",
       "<style scoped>\n",
       "    .dataframe tbody tr th:only-of-type {\n",
       "        vertical-align: middle;\n",
       "    }\n",
       "\n",
       "    .dataframe tbody tr th {\n",
       "        vertical-align: top;\n",
       "    }\n",
       "\n",
       "    .dataframe thead th {\n",
       "        text-align: right;\n",
       "    }\n",
       "</style>\n",
       "<table border=\"1\" class=\"dataframe\">\n",
       "  <thead>\n",
       "    <tr style=\"text-align: right;\">\n",
       "      <th></th>\n",
       "      <th>Daily_Return_with_Value_Weighted_Portfolio</th>\n",
       "      <th>Daily_Return_with_Equal_Weighted_Portfolio</th>\n",
       "    </tr>\n",
       "    <tr>\n",
       "      <th>Date</th>\n",
       "      <th></th>\n",
       "      <th></th>\n",
       "    </tr>\n",
       "  </thead>\n",
       "  <tbody>\n",
       "    <tr>\n",
       "      <th>2014</th>\n",
       "      <td>-0.000207</td>\n",
       "      <td>0.000129</td>\n",
       "    </tr>\n",
       "    <tr>\n",
       "      <th>2015</th>\n",
       "      <td>0.000017</td>\n",
       "      <td>0.000083</td>\n",
       "    </tr>\n",
       "    <tr>\n",
       "      <th>2016</th>\n",
       "      <td>0.000300</td>\n",
       "      <td>0.000711</td>\n",
       "    </tr>\n",
       "    <tr>\n",
       "      <th>2017</th>\n",
       "      <td>0.000354</td>\n",
       "      <td>0.000207</td>\n",
       "    </tr>\n",
       "    <tr>\n",
       "      <th>2018</th>\n",
       "      <td>-0.000490</td>\n",
       "      <td>-0.000513</td>\n",
       "    </tr>\n",
       "    <tr>\n",
       "      <th>2019</th>\n",
       "      <td>0.000494</td>\n",
       "      <td>0.000562</td>\n",
       "    </tr>\n",
       "    <tr>\n",
       "      <th>2020</th>\n",
       "      <td>0.000680</td>\n",
       "      <td>-0.000226</td>\n",
       "    </tr>\n",
       "    <tr>\n",
       "      <th>2021</th>\n",
       "      <td>0.000424</td>\n",
       "      <td>0.000361</td>\n",
       "    </tr>\n",
       "    <tr>\n",
       "      <th>2022</th>\n",
       "      <td>-0.000377</td>\n",
       "      <td>0.000271</td>\n",
       "    </tr>\n",
       "    <tr>\n",
       "      <th>2023</th>\n",
       "      <td>0.001657</td>\n",
       "      <td>0.000665</td>\n",
       "    </tr>\n",
       "    <tr>\n",
       "      <th>2024</th>\n",
       "      <td>0.000969</td>\n",
       "      <td>0.000092</td>\n",
       "    </tr>\n",
       "  </tbody>\n",
       "</table>\n",
       "</div>"
      ],
      "text/plain": [
       "      Daily_Return_with_Value_Weighted_Portfolio  \\\n",
       "Date                                               \n",
       "2014                                   -0.000207   \n",
       "2015                                    0.000017   \n",
       "2016                                    0.000300   \n",
       "2017                                    0.000354   \n",
       "2018                                   -0.000490   \n",
       "2019                                    0.000494   \n",
       "2020                                    0.000680   \n",
       "2021                                    0.000424   \n",
       "2022                                   -0.000377   \n",
       "2023                                    0.001657   \n",
       "2024                                    0.000969   \n",
       "\n",
       "      Daily_Return_with_Equal_Weighted_Portfolio  \n",
       "Date                                              \n",
       "2014                                    0.000129  \n",
       "2015                                    0.000083  \n",
       "2016                                    0.000711  \n",
       "2017                                    0.000207  \n",
       "2018                                   -0.000513  \n",
       "2019                                    0.000562  \n",
       "2020                                   -0.000226  \n",
       "2021                                    0.000361  \n",
       "2022                                    0.000271  \n",
       "2023                                    0.000665  \n",
       "2024                                    0.000092  "
      ]
     },
     "execution_count": 124,
     "metadata": {},
     "output_type": "execute_result"
    }
   ],
   "source": [
    "# Compute annualized average return\n",
    "annualized_average_return =portfolios.groupby(portfolios['Date'].dt.strftime('%Y'))[[\"Daily_Return_with_Value_Weighted_Portfolio\",\"Daily_Return_with_Equal_Weighted_Portfolio\"]].mean()\n",
    "annualized_average_return"
   ]
  },
  {
   "cell_type": "code",
   "execution_count": 125,
   "metadata": {},
   "outputs": [
    {
     "data": {
      "text/html": [
       "<div>\n",
       "<style scoped>\n",
       "    .dataframe tbody tr th:only-of-type {\n",
       "        vertical-align: middle;\n",
       "    }\n",
       "\n",
       "    .dataframe tbody tr th {\n",
       "        vertical-align: top;\n",
       "    }\n",
       "\n",
       "    .dataframe thead th {\n",
       "        text-align: right;\n",
       "    }\n",
       "</style>\n",
       "<table border=\"1\" class=\"dataframe\">\n",
       "  <thead>\n",
       "    <tr style=\"text-align: right;\">\n",
       "      <th></th>\n",
       "      <th>Daily_Return_with_Value_Weighted_Portfolio</th>\n",
       "      <th>Daily_Return_with_Equal_Weighted_Portfolio</th>\n",
       "    </tr>\n",
       "    <tr>\n",
       "      <th>Date</th>\n",
       "      <th></th>\n",
       "      <th></th>\n",
       "    </tr>\n",
       "  </thead>\n",
       "  <tbody>\n",
       "    <tr>\n",
       "      <th>2014</th>\n",
       "      <td>0.007647</td>\n",
       "      <td>0.006874</td>\n",
       "    </tr>\n",
       "    <tr>\n",
       "      <th>2015</th>\n",
       "      <td>0.008419</td>\n",
       "      <td>0.007704</td>\n",
       "    </tr>\n",
       "    <tr>\n",
       "      <th>2016</th>\n",
       "      <td>0.007129</td>\n",
       "      <td>0.007798</td>\n",
       "    </tr>\n",
       "    <tr>\n",
       "      <th>2017</th>\n",
       "      <td>0.004038</td>\n",
       "      <td>0.003922</td>\n",
       "    </tr>\n",
       "    <tr>\n",
       "      <th>2018</th>\n",
       "      <td>0.011319</td>\n",
       "      <td>0.009192</td>\n",
       "    </tr>\n",
       "    <tr>\n",
       "      <th>2019</th>\n",
       "      <td>0.006691</td>\n",
       "      <td>0.006043</td>\n",
       "    </tr>\n",
       "    <tr>\n",
       "      <th>2020</th>\n",
       "      <td>0.014052</td>\n",
       "      <td>0.014706</td>\n",
       "    </tr>\n",
       "    <tr>\n",
       "      <th>2021</th>\n",
       "      <td>0.008453</td>\n",
       "      <td>0.007624</td>\n",
       "    </tr>\n",
       "    <tr>\n",
       "      <th>2022</th>\n",
       "      <td>0.015787</td>\n",
       "      <td>0.012735</td>\n",
       "    </tr>\n",
       "    <tr>\n",
       "      <th>2023</th>\n",
       "      <td>0.010152</td>\n",
       "      <td>0.007711</td>\n",
       "    </tr>\n",
       "    <tr>\n",
       "      <th>2024</th>\n",
       "      <td>0.009936</td>\n",
       "      <td>0.006629</td>\n",
       "    </tr>\n",
       "  </tbody>\n",
       "</table>\n",
       "</div>"
      ],
      "text/plain": [
       "      Daily_Return_with_Value_Weighted_Portfolio  \\\n",
       "Date                                               \n",
       "2014                                    0.007647   \n",
       "2015                                    0.008419   \n",
       "2016                                    0.007129   \n",
       "2017                                    0.004038   \n",
       "2018                                    0.011319   \n",
       "2019                                    0.006691   \n",
       "2020                                    0.014052   \n",
       "2021                                    0.008453   \n",
       "2022                                    0.015787   \n",
       "2023                                    0.010152   \n",
       "2024                                    0.009936   \n",
       "\n",
       "      Daily_Return_with_Equal_Weighted_Portfolio  \n",
       "Date                                              \n",
       "2014                                    0.006874  \n",
       "2015                                    0.007704  \n",
       "2016                                    0.007798  \n",
       "2017                                    0.003922  \n",
       "2018                                    0.009192  \n",
       "2019                                    0.006043  \n",
       "2020                                    0.014706  \n",
       "2021                                    0.007624  \n",
       "2022                                    0.012735  \n",
       "2023                                    0.007711  \n",
       "2024                                    0.006629  "
      ]
     },
     "execution_count": 125,
     "metadata": {},
     "output_type": "execute_result"
    }
   ],
   "source": [
    "# compute annualized standard deviation return\n",
    "standard_deviation_return = portfolios.groupby(portfolios['Date'].dt.strftime('%Y'))[[\"Daily_Return_with_Value_Weighted_Portfolio\",\"Daily_Return_with_Equal_Weighted_Portfolio\"]].std()\n",
    "standard_deviation_return"
   ]
  },
  {
   "cell_type": "code",
   "execution_count": 149,
   "metadata": {},
   "outputs": [
    {
     "name": "stdout",
     "output_type": "stream",
     "text": [
      "Risk Premium for the Value Weighted Portfolio -0.039652733216011336\n",
      "Risk Premium for the Equal Weighted Portfolio -0.03978699909728018\n",
      "With the Value Weighted Portfolio, you should expect to get 3.97% less from investing in this portfolio than from investing in the risk free security.\n",
      "With the Equal Weighted Portfolio, you should expect to get 3.97% less from investing in this portfolio than from investing in the risk free security.\n"
     ]
    }
   ],
   "source": [
    "# CHANGE THIS VALUE FOR A REAL VALUE\n",
    "risk_free_rate = 0.04\n",
    "\n",
    "# VWP = Value-Weighted Portfolio\n",
    "# EWP = Equal-Weighted Portfolio\n",
    "annualized_average_return[\"Excess_Return_VWP\"] = annualized_average_return[\"Daily_Return_with_Value_Weighted_Portfolio\"] - risk_free_rate\n",
    "annualized_average_return[\"Excess_Return_EWP\"] = annualized_average_return[\"Daily_Return_with_Equal_Weighted_Portfolio\"] - risk_free_rate\n",
    "risk_premium_VWP = annualized_average_return[\"Excess_Return_VWP\"].mean()\n",
    "risk_premium_EWP = annualized_average_return[\"Excess_Return_EWP\"].mean()\n",
    "\n",
    "# Get the Squared deviations from mean (Risk premium in each port)\n",
    "annualized_average_return[\"Squared_Deviations_From_Mean_VWP\"] = (annualized_average_return[\"Excess_Return_VWP\"] - risk_premium_VWP)**2\n",
    "annualized_average_return[\"Squared_Deviations_From_Mean_EWP\"] = (annualized_average_return[\"Excess_Return_EWP\"] - risk_premium_EWP)**2\n",
    "\n",
    "# Get the standard deviation from mean (Risk premium in each port)\n",
    "SD_Excess_Return_VWP = annualized_average_return[\"Squared_Deviations_From_Mean_VWP\"].std()\n",
    "SD_Excess_Return_EWP = annualized_average_return[\"Squared_Deviations_From_Mean_EWP\"].std()\n",
    "print(\"Risk Premium for the Value Weighted Portfolio\",risk_premium_VWP)\n",
    "print(\"Risk Premium for the Equal Weighted Portfolio\",risk_premium_EWP)\n",
    "\n",
    "\n",
    "if risk_premium_VWP<0:\n",
    "    print(f\"With the Value Weighted Portfolio, you should expect to get {abs(risk_premium_VWP)*100:.2f}% less from investing in this portfolio than from investing in the risk free security.\")\n",
    "else:\n",
    "    print(f\"With the Value Weighted Portfolio, you should expect to get {abs(risk_premium_VWP)*100:.2f}% more from investing in this portfolio than from investing in the risk free security.\")\n",
    "\n",
    "if risk_premium_EWP<0:\n",
    "    print(f\"With the Equal Weighted Portfolio, you should expect to get {abs(risk_premium_VWP)*100:.2f}% less from investing in this portfolio than from investing in the risk free security.\")\n",
    "else:\n",
    "    print(f\"With the Equal Weighted Portfolio, you should expect to get {abs(risk_premium_VWP)*100:.2f}% more from investing in this portfolio than from investing in the risk free security.\")"
   ]
  },
  {
   "cell_type": "code",
   "execution_count": 150,
   "metadata": {},
   "outputs": [
    {
     "name": "stdout",
     "output_type": "stream",
     "text": [
      "Sharpe ratio value-weighted portfolio:  -77687.47730063884\n",
      "Sharpe ratio equal-weighted portfolio:  -242867.60916158123\n"
     ]
    }
   ],
   "source": [
    "sharpe_ratio_VWP = risk_premium_VWP / SD_Excess_Return_VWP\n",
    "sharpe_ratio_EWP = risk_premium_VWP / SD_Excess_Return_EWP\n",
    "\n",
    "print(\"Sharpe ratio value-weighted portfolio: \",sharpe_ratio_VWP)\n",
    "print(\"Sharpe ratio equal-weighted portfolio: \",sharpe_ratio_EWP)"
   ]
  },
  {
   "cell_type": "markdown",
   "metadata": {},
   "source": [
    "# Conclusion: The model is very bad!"
   ]
  },
  {
   "cell_type": "markdown",
   "metadata": {},
   "source": [
    "Plot cumulative returns for both porfolios, S&P 500 and risk-free"
   ]
  },
  {
   "cell_type": "code",
   "execution_count": null,
   "metadata": {},
   "outputs": [],
   "source": []
  },
  {
   "cell_type": "code",
   "execution_count": 191,
   "metadata": {},
   "outputs": [],
   "source": [
    "# returns = portfolios.copy()\n",
    "\n",
    "# returns[\"Daily_Return_with_Risk_Free_Asset\"] = risk_free_rate / 365\n",
    "returns_per_year = pd.DataFrame()\n",
    "returns_per_year[\"Annually_Return_VWP\"] = annualized_average_return[\"Daily_Return_with_Value_Weighted_Portfolio\"]\n",
    "returns_per_year[\"Annually_Return_EWP\"] = annualized_average_return[\"Daily_Return_with_Equal_Weighted_Portfolio\"]\n",
    "returns_per_year[\"Annually_Return_with_Risk_Free_Asset\"] = risk_free_rate"
   ]
  },
  {
   "cell_type": "code",
   "execution_count": 193,
   "metadata": {},
   "outputs": [
    {
     "data": {
      "text/plain": [
       "<matplotlib.legend.Legend at 0x7f2ab39fef10>"
      ]
     },
     "execution_count": 193,
     "metadata": {},
     "output_type": "execute_result"
    },
    {
     "data": {
      "image/png": "[encoded data removed]",
      "text/plain": [
       "<Figure size 1200x600 with 1 Axes>"
      ]
     },
     "metadata": {},
     "output_type": "display_data"
    }
   ],
   "source": [
    "cumulative_returns_EWP = (returns_per_year[\"Annually_Return_EWP\"]+1).cumprod() - 1\n",
    "cumulative_returns_VWP = (returns_per_year[\"Annually_Return_VWP\"]+1).cumprod() - 1\n",
    "cumulative_returns_RiskFree = (returns_per_year[\"Annually_Return_with_Risk_Free_Asset\"]+1).cumprod() - 1\n",
    "\n",
    "plt.figure(figsize=(12, 6))\n",
    "plt.plot(returns_per_year.index, cumulative_returns_EWP, label=\"Cumulative return EWP\")\n",
    "plt.plot(returns_per_year.index, cumulative_returns_VWP, label=\"Cumulative return VWP\")\n",
    "# plt.plot(returns_per_year.index, cumulative_returns_RiskFree, label=\"Cumulative return Risk-Free\")\n",
    "\n",
    "plt.title(f\"Value Weighted vs Equal Weighted Returns ({start_date} to {end_date})\")\n",
    "plt.xlabel(\"Date\")\n",
    "plt.ylabel(\"Return\")\n",
    "plt.legend()"
   ]
  }
 ],
 "metadata": {
  "kernelspec": {
   "display_name": "env",
   "language": "python",
   "name": "python3"
  },
  "language_info": {
   "codemirror_mode": {
    "name": "ipython",
    "version": 3
   },
   "file_extension": ".py",
   "mimetype": "text/x-python",
   "name": "python",
   "nbconvert_exporter": "python",
   "pygments_lexer": "ipython3",
   "version": "3.8.10"
  }
 },
 "nbformat": 4,
 "nbformat_minor": 2
}

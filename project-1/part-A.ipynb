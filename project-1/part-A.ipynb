{
 "cells": [
  {
   "cell_type": "markdown",
   "metadata": {},
   "source": [
    "### Project 1\n",
    "\n",
    "#### Part A\n",
    "\n",
    "Jerônimo de Abreu Afrange\n",
    "\n",
    "- Select 30 stocks in the S&P 500 universe\n",
    "- Collect daily returns for the past 10 years (2014-2023)\n",
    "- Create both value-weighted and equally weighted portfolio\n",
    "- Rebalance these portfolios in the first day of the month based on the information on the last day (1-day lag)\n",
    "- Which portfolio has the highest turnover?\n",
    "- Compute daily returns for both portfolios\n",
    "- Compute the following statistics for these portfolios:\n",
    "    - Annualized average return\n",
    "    - Annualized standar deviation\n",
    "    - Sharpe ratio\n",
    "    - Information ratio (vs S&P500)\n",
    "- Plot cumulative returns for both portfolios, S&P500 and risk-free\n",
    "\n",
    "\n"
   ]
  },
  {
   "cell_type": "code",
   "execution_count": 1,
   "metadata": {},
   "outputs": [],
   "source": [
    "import pandas as pd"
   ]
  },
  {
   "cell_type": "code",
   "execution_count": 30,
   "metadata": {},
   "outputs": [],
   "source": [
    "# cria os dataframes do S&P500 e dos preços das ações\n",
    "stocks_data = pd.read_csv(\"../data/stock_prices.csv\")\n",
    "index_data = pd.read_csv(\"../data/sp500_index.csv\")\n",
    "\n",
    "# remove as ações para as quais não temos dados de 2014 até atualmente\n",
    "incomplete_stocks = stocks_data[\"Ticker\"].value_counts()\n",
    "incomplete_stocks = incomplete_stocks[incomplete_stocks < incomplete_stocks.max()]\n",
    "stocks_data = stocks_data[~stocks_data[\"Ticker\"].isin(incomplete_stocks.index)]"
   ]
  }
 ],
 "metadata": {
  "kernelspec": {
   "display_name": "base",
   "language": "python",
   "name": "python3"
  },
  "language_info": {
   "codemirror_mode": {
    "name": "ipython",
    "version": 3
   },
   "file_extension": ".py",
   "mimetype": "text/x-python",
   "name": "python",
   "nbconvert_exporter": "python",
   "pygments_lexer": "ipython3",
   "version": "3.10.12"
  }
 },
 "nbformat": 4,
 "nbformat_minor": 2
}
